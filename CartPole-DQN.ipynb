{
 "cells": [
  {
   "cell_type": "markdown",
   "metadata": {},
   "source": [
    "<h3>Import Libraries</h3>"
   ]
  },
  {
   "cell_type": "code",
   "execution_count": 1,
   "metadata": {},
   "outputs": [],
   "source": [
    "import gym\n",
    "import math\n",
    "import random\n",
    "import numpy as np\n",
    "import matplotlib\n",
    "import matplotlib.pyplot as plt\n",
    "from collections import namedtuple\n",
    "from itertools import count\n",
    "from PIL import Image\n",
    "import torch\n",
    "import torch.nn as nn\n",
    "import torch.optim as optim\n",
    "import torch.nn.functional as F\n",
    "import torchvision.transforms as T"
   ]
  },
  {
   "cell_type": "markdown",
   "metadata": {},
   "source": [
    "<h3>Set up Display</h3>"
   ]
  },
  {
   "cell_type": "code",
   "execution_count": 2,
   "metadata": {},
   "outputs": [],
   "source": [
    "#IPython display module to aid us in plotting images on our notebook\n",
    "is_ipython = 'inline' in matplotlib.get_backend()\n",
    "if is_ipython: from IPython import display"
   ]
  },
  {
   "cell_type": "markdown",
   "metadata": {},
   "source": [
    "<h3>DQN</h3>"
   ]
  },
  {
   "cell_type": "code",
   "execution_count": 3,
   "metadata": {},
   "outputs": [],
   "source": [
    "class DQN(nn.Module): #torch.nn package contains all the typical components needed to build a NN. Module is the base class for all NN. our DQN class extends Module\n",
    "    def __init__(self, img_height, img_width):\n",
    "        super().__init__()\n",
    "        \n",
    "        #the following network is an arbitrary one, also doesnot contain any Convolutional layers as well.\n",
    "        self.fc1 = nn.Linear(in_features=img_height*img_width*3, out_features=24) \n",
    "        #first layer gets screenshots of cartpole -> img_height*img_width*3 -> 3 is for rgb channels and 24 outputs\n",
    "        #In Torch Linear is for fullyconnected layers\n",
    "        self.fc2 = nn.Linear(in_features=24, out_features=32)\n",
    "        self.out = nn.Linear(in_features=32, out_features=2) #as our only possible actions for cart pole env is to move the cart left or right. Hence output layer is outputting 2 values corresponding to q values of a state and its action accordingly\n",
    "        \n",
    "    def forward(self,t): #note that all pytorch NNs need to have a forward implementation; \n",
    "        #for an image tensor t that is passed to NN, it must be flattened first\n",
    "        t = t.flatten(start_dim =1)\n",
    "        t = F.relu(self.fc1(t)) #t is passed to the first layer and then relu is applied on it for non linearity\n",
    "        t = F.relu(self.fc2(t))\n",
    "        t = self.out(t)\n",
    "        return t"
   ]
  },
  {
   "cell_type": "markdown",
   "metadata": {},
   "source": [
    "<h3>Experience class for the Experience replay</h3>"
   ]
  },
  {
   "cell_type": "code",
   "execution_count": 4,
   "metadata": {},
   "outputs": [],
   "source": [
    "Experience = namedtuple('Experience', ('state','action','next_state','reward')) #create a class called Experience that is used to create instances of experience objects that will be stored in and sampled from reply memory later\n",
    "#namedtuple is python function for creating python tuples with named fields\n",
    "#namedtupe here is returning a new tuple subclass named \"Experience\" specified by the first argument.\n",
    "#This new Experience class will be used to create tuple like objects that have the fields 'state','action','next_state','reward'\n",
    "\n",
    "#sample e be like:\n",
    "#e = Experience(2,1,3,4)"
   ]
  },
  {
   "cell_type": "code",
   "execution_count": 5,
   "metadata": {},
   "outputs": [],
   "source": [
    "#e"
   ]
  },
  {
   "cell_type": "markdown",
   "metadata": {},
   "source": [
    "<h3>Replay Memory class to store the experiences</h3>"
   ]
  },
  {
   "cell_type": "code",
   "execution_count": 6,
   "metadata": {},
   "outputs": [],
   "source": [
    "class ReplayMemory():\n",
    "    def __init__(self, capacity):\n",
    "        self.capacity = capacity\n",
    "        self.memory = [] #empty list\n",
    "        self.push_count = 0 #to keep track of how many experiences we added to memory\n",
    "        \n",
    "    #push function is push the experiences as they come to replay memory\n",
    "    def push (self, experience):\n",
    "        if len(self.memory)<self.capacity: #checking if the number of experiences is less than the capacity\n",
    "            self.memory.append(experience)\n",
    "        else:\n",
    "            self.memory[self.push_count % self.capacity] = experience #if replay memory is full then push new experience on to the front of memory by overwriting old memories first\n",
    "        self.push_count+=1\n",
    "        \n",
    "    #we need to sample these memories stored which are used to train DQN:\n",
    "    def sample(self, batch_size):\n",
    "        return random.sample(self.memory, batch_size) #batch_size is a parameter that tells the number of memories to be sampled from replay memory\n",
    "\n",
    "    def can_provide_sample(self, batch_size): #boolean function that tells if we can sample or not in the first place\n",
    "        return len(self.memory) >= batch_size\n",
    "        \n",
    "        \n",
    "                \n",
    "            "
   ]
  },
  {
   "cell_type": "markdown",
   "metadata": {},
   "source": [
    "<h3>Epsilon Greedy Strategy for trading b/w Exploration and Exploitation</h3>"
   ]
  },
  {
   "cell_type": "code",
   "execution_count": 7,
   "metadata": {},
   "outputs": [],
   "source": [
    "class EpsilonGreedyStrategy():\n",
    "    def __init__(self, start, end, decay): #start end decay rate of exploration rate as arguments\n",
    "        self.start = start\n",
    "        self.end = end\n",
    "        self.decay = end\n",
    "        \n",
    "    def get_exploration_rate(self, current_step): #same as we dealt in value iteration method. start is max, end is min of epsilon values\n",
    "        return self.end + (self.start - self.end)*math.exp(-1.*current_step*self.decay)"
   ]
  },
  {
   "cell_type": "markdown",
   "metadata": {},
   "source": [
    "<h3>Reinforcement Learning Agent</h3>"
   ]
  },
  {
   "cell_type": "code",
   "execution_count": 8,
   "metadata": {},
   "outputs": [],
   "source": [
    "class Agent():\n",
    "    def __init__(self, strategy, num_actions, device): #Agent class would already need a instance of epsilon greedy strategy class created. So that we can use that strategy to create a agent; num_action correspnds to number of actions agent can take at a state which is 2 in this case        self.current_step = 0\n",
    "        self.current_step = 0 #this correspnds to agent's current step number in the env\n",
    "        self.strategy = strategy\n",
    "        self.num_actions = num_actions\n",
    "        self.device = device #we tell pytorch to use this device could be GPU, or CPU accordingly\n",
    "    \n",
    "    def select_action(self, state, policy_net): #state and policy net (DQN that we trained to learn the optimal policy) \n",
    "        rate = strategy.get_exploration_rate(self.current_step)\n",
    "        self.current_step += 1\n",
    "        \n",
    "        if rate>random.random(): #random.random() genrates a random number between 0 and 1\n",
    "            action =  random.randrange(self.num_actions) #exploring\n",
    "            return torch.tensor([action]).to(device)\n",
    "            \n",
    "        else:\n",
    "            with torch.no_grad(): #to specify the network that we are using it as a infernce device and dont track the gradients thinking that state input is a input to feed it forward\n",
    "                return policy_net(state).argmax(dim=1).to(device) #exploit dim=1 is for action column."
   ]
  },
  {
   "cell_type": "markdown",
   "metadata": {},
   "source": [
    "<h3>Environment Manager</h3>"
   ]
  },
  {
   "cell_type": "code",
   "execution_count": 9,
   "metadata": {},
   "outputs": [],
   "source": [
    "class CartPoleEnvManager(): #a class to wrap several of Gym's capabilities and also give a added funciton for image preprocessing for the env images taht we give to N/w as an input\n",
    "    def __init__(self, device):\n",
    "        self.device= device\n",
    "        self.env = gym.make('CartPole-v0').unwrapped #unwrapped -> gets the access to behind scene dynamics of the env\n",
    "        self.env.reset()\n",
    "        self.current_screen = None #current_screen will store the current snap of env at any give time  \n",
    "        self.done = False #used to see if any of the action made the episode come to an end\n",
    "        \n",
    "    #couple of Gyms capabilites as methods of Env Manager just for ease of usage and everything at one place interface in interactin with env\n",
    "    def reset(self):\n",
    "        self.env.reset()\n",
    "        self.current_screen=None #we generally call reset at the end of the episode. Hence cleaning current_screen\n",
    "    \n",
    "    def close(self):\n",
    "        self.env.close()\n",
    "    \n",
    "    def render(self, mode='human'):\n",
    "        return self.env.render(mode)\n",
    "    \n",
    "    def num_actions_available(self):\n",
    "        return self.env.action_space.n\n",
    "    \n",
    "    def take_action(self, action):\n",
    "        _, reward, self.done, _ = self.env.step(action.item()) #item() is because action passed is a tensor and item() gives a number to action that is expected\n",
    "        return torch.tensor([reward], device=self.device) #wrapped as a tensor\n",
    "    \n",
    "    \n",
    "    def just_starting(self):\n",
    "        return self.current_screen is None\n",
    "    \n",
    "    def get_state(self):\n",
    "        if self.just_starting() or self.done: #are we just starting or done with the episode\n",
    "            self.current_screen = self.get_processed_screen()\n",
    "            black_screen = torch.zeros_like(self.current_screen)\n",
    "            return black_screen\n",
    "        \n",
    "        else:\n",
    "            s1 = self.current_screen\n",
    "            s2 = self.get_processed_screen()\n",
    "            self.current_screen = s2 #so that s1 will be the previous screen and s2 be the current screen\n",
    "            return s2-s1 #doing the difference of last two screens -> with a intution that pole's velocity will be captured by doin this\n",
    "            \n",
    "    #get_Screen_height and #get_screen_width gives the height and width of a processed screen        \n",
    "    def get_screen_height(self):\n",
    "        screen = self.get_processed_screen()\n",
    "        return screen.shape[2]\n",
    "    \n",
    "    def get_screen_width(self):\n",
    "        screen = self.get_processed_screen()\n",
    "        return screen.shape[3]\n",
    "    \n",
    "    def get_processed_screen(self):\n",
    "        screen = self.render('rgb_array').transpose((2, 0, 1)) # PyTorch expects CHW\n",
    "        screen = self.crop_screen(screen)\n",
    "        return self.transform_screen_data(screen)\n",
    "    def crop_screen(self, screen):\n",
    "        screen_height = screen.shape[1]\n",
    "\n",
    "        # Strip off top and bottom\n",
    "        top = int(screen_height * 0.4)\n",
    "        bottom = int(screen_height * 0.8)\n",
    "        screen = screen[:, top:bottom, :]\n",
    "        return screen\n",
    "    def transform_screen_data(self, screen):       \n",
    "        # Convert to float, rescale, convert to tensor\n",
    "        screen = np.ascontiguousarray(screen, dtype=np.float32) / 255\n",
    "        screen = torch.from_numpy(screen)\n",
    "\n",
    "        # Use torchvision package to compose image transforms\n",
    "        resize = T.Compose([\n",
    "            T.ToPILImage()\n",
    "            ,T.Resize((40,90))\n",
    "            ,T.ToTensor()\n",
    "        ])\n",
    "\n",
    "        return resize(screen).unsqueeze(0).to(self.device) # add a batch dimension (BCHW)\n",
    "    \n",
    "#     def get_processed_screen(self):\n",
    "#         screen = self.render('rgb_array').transpose((2,0,1)) #transposes the array into the order of channels X Height X Width\n",
    "#         screen = self.crop_screen(screen)\n",
    "#         return self.transform_screen_data (screen)\n",
    "    \n",
    "#     def crop_screen(self, screen):\n",
    "#         screen_height = screen.shape[1]\n",
    "        \n",
    "#         #strip off top and bottom\n",
    "#         top = int(screen_height*0.4)\n",
    "#         bottom = int(screen_height*0.8)\n",
    "#         screen = screen[:,top:bottom,:] #stripped top 40% and bottom 20% which are useless that we can see going forward -> that part of the image wont give any intuition or useful data\n",
    "#         return screen\n",
    "    \n",
    "#     def transform_screen_data(self, screen):\n",
    "#         #convert to float, rescale, convert to tensor\n",
    "#         screen = np.ascontiguousarray(screen, dtype=np.float32)/255\n",
    "#         screen = torch.from_numpy(screen) #numpy array to torch tensor\n",
    "        \n",
    "#         #use torchvision package to compose image transforms\n",
    "#         resize = T.Compose([T.ToPILImage(), T.Resize(50,100),T.ToTensor()]) #PILimage gives python intrepretor an ability to edit images\n",
    "        \n",
    "#         return resize(screen).unsqueeze(0).to(self.device) #unsqueeze 0 adds a new dimension this is to tell the batch size as the input goes to DQN in batches\n",
    "    \n",
    "    "
   ]
  },
  {
   "cell_type": "markdown",
   "metadata": {},
   "source": [
    "<h3>Example of all the preprocessing of the Image from CartPole</h3>"
   ]
  },
  {
   "cell_type": "code",
   "execution_count": 10,
   "metadata": {},
   "outputs": [
    {
     "data": {
      "image/png": "[encoded data removed]",
      "text/plain": [
       "<Figure size 432x288 with 1 Axes>"
      ]
     },
     "metadata": {
      "needs_background": "light"
     },
     "output_type": "display_data"
    }
   ],
   "source": [
    "device = torch.device(\"cuda\" if torch.cuda.is_available() else \"cpu\")\n",
    "em = CartPoleEnvManager(device)\n",
    "em.reset()\n",
    "screen = em.render('rgb_array')\n",
    "\n",
    "plt.figure()\n",
    "plt.imshow(screen)\n",
    "plt.title('Non-processed screen example')\n",
    "plt.show()"
   ]
  },
  {
   "cell_type": "markdown",
   "metadata": {},
   "source": [
    "<h3>Example of a processed screen</h3>"
   ]
  },
  {
   "cell_type": "code",
   "execution_count": 11,
   "metadata": {},
   "outputs": [
    {
     "data": {
      "image/png": "[encoded data removed]",
      "text/plain": [
       "<Figure size 432x288 with 1 Axes>"
      ]
     },
     "metadata": {
      "needs_background": "light"
     },
     "output_type": "display_data"
    }
   ],
   "source": [
    "screen = em.get_processed_screen()\n",
    "\n",
    "plt.figure()\n",
    "plt.imshow(screen.squeeze(0).permute(1, 2, 0).cpu(), interpolation='none')\n",
    "plt.title('Processed screen example')\n",
    "plt.show()"
   ]
  },
  {
   "cell_type": "markdown",
   "metadata": {},
   "source": [
    "<h3>Example of a starting screen</h3>"
   ]
  },
  {
   "cell_type": "code",
   "execution_count": 14,
   "metadata": {},
   "outputs": [
    {
     "data": {
      "image/png": "[encoded data removed]",
      "text/plain": [
       "<Figure size 432x288 with 1 Axes>"
      ]
     },
     "metadata": {
      "needs_background": "light"
     },
     "output_type": "display_data"
    }
   ],
   "source": [
    "screen = em.get_state()\n",
    "\n",
    "plt.figure()\n",
    "plt.imshow(screen.squeeze(0).permute(1, 2, 0).cpu(), interpolation='none')\n",
    "plt.title('Starting state example')\n",
    "plt.show()"
   ]
  },
  {
   "cell_type": "markdown",
   "metadata": {},
   "source": [
    "<h3>Example of a non starting screen</h3>"
   ]
  },
  {
   "cell_type": "code",
   "execution_count": 15,
   "metadata": {},
   "outputs": [
    {
     "name": "stderr",
     "output_type": "stream",
     "text": [
      "Clipping input data to the valid range for imshow with RGB data ([0..1] for floats or [0..255] for integers).\n"
     ]
    },
    {
     "data": {
      "image/png": "[encoded data removed]",
      "text/plain": [
       "<Figure size 432x288 with 1 Axes>"
      ]
     },
     "metadata": {
      "needs_background": "light"
     },
     "output_type": "display_data"
    }
   ],
   "source": [
    "for i in range(5):\n",
    "    em.take_action(torch.tensor([1]))\n",
    "screen = em.get_state()\n",
    "\n",
    "plt.figure()\n",
    "plt.imshow(screen.squeeze(0).permute(1, 2, 0).cpu(), interpolation='none')\n",
    "plt.title('Non starting state example')\n",
    "plt.show()\n",
    "#If we see most of the pic has become black because the difference between last image and current image would be moslty zero but the pixels that correspnd to card and pole show some highlight as below"
   ]
  },
  {
   "cell_type": "markdown",
   "metadata": {},
   "source": [
    "<h3>Example of a End state</h3>"
   ]
  },
  {
   "cell_type": "code",
   "execution_count": 17,
   "metadata": {},
   "outputs": [
    {
     "data": {
      "image/png": "[encoded data removed]",
      "text/plain": [
       "<Figure size 432x288 with 1 Axes>"
      ]
     },
     "metadata": {
      "needs_background": "light"
     },
     "output_type": "display_data"
    }
   ],
   "source": [
    "em.done = True\n",
    "screen = em.get_state()\n",
    "\n",
    "plt.figure()\n",
    "plt.imshow(screen.squeeze(0).permute(1, 2, 0).cpu(), interpolation='none')\n",
    "plt.title('Ending state example')\n",
    "plt.show()\n",
    "em.close()"
   ]
  },
  {
   "cell_type": "markdown",
   "metadata": {},
   "source": [
    "<h2>Utility functions to plot etc.</h2>\n",
    "<h3>Plotting</h3>"
   ]
  },
  {
   "cell_type": "code",
   "execution_count": 10,
   "metadata": {},
   "outputs": [],
   "source": [
    "def plot(values, moving_avg_period): #accepts values and moving_avg_period. Used for plotting duration of each episode and 100 episode moving average\n",
    "    #to solve cart and pole - the avg reward must be >= 195 over 100 consecutive episodes\n",
    "    #agent gets a reward +1 for each step it takes that does not end epsode - so the duration of episode measured in time steps = reward for the episode\n",
    "    plt.figure(2)\n",
    "    plt.clf()        \n",
    "    plt.title('Training...')\n",
    "    plt.xlabel('Episode')\n",
    "    plt.ylabel('Duration')\n",
    "    plt.plot(values) #values here are episode durations\n",
    "    moving_avg = get_moving_average(moving_avg_period, values)\n",
    "    plt.plot(moving_avg)    \n",
    "    plt.pause(0.001)\n",
    "    print(\"Episode\", len(values), \"\\n\", \\\n",
    "        moving_avg_period, \"episode moving avg:\", moving_avg[-1])\n",
    "    if is_ipython: display.clear_output(wait=True)\n",
    "    \n",
    "def get_moving_average(period, values):\n",
    "    values = torch.tensor(values, dtype=torch.float)\n",
    "    if len(values) >= period:\n",
    "        moving_avg = values.unfold(dimension=0, size=period, step=1) \\\n",
    "        .mean(dim=1).flatten(start_dim=0) #slices the original values tensor into 100 period tensors and calculate mean of those 100 periods and flatten them -> thats what moving average will get finally\n",
    "        moving_avg = torch.cat((torch.zeros(period-1), moving_avg))\n",
    "        return moving_avg.numpy()\n",
    "    else:\n",
    "        moving_avg = torch.zeros(len(values))\n",
    "        return moving_avg.numpy()"
   ]
  },
  {
   "cell_type": "code",
   "execution_count": 32,
   "metadata": {},
   "outputs": [
    {
     "data": {
      "image/png": "[encoded data removed]",
      "text/plain": [
       "<Figure size 432x288 with 1 Axes>"
      ]
     },
     "metadata": {
      "needs_background": "light"
     },
     "output_type": "display_data"
    },
    {
     "name": "stdout",
     "output_type": "stream",
     "text": [
      "Episode 300 \n",
      " 100 episode moving avg: 0.4766897\n"
     ]
    }
   ],
   "source": [
    "#Example\n",
    "plot(np.random.rand(300), 100)"
   ]
  },
  {
   "cell_type": "markdown",
   "metadata": {},
   "source": [
    "<h3>Main Program</h3>"
   ]
  },
  {
   "cell_type": "markdown",
   "metadata": {},
   "source": [
    "<h4>HyperParameters</h4>"
   ]
  },
  {
   "cell_type": "code",
   "execution_count": 13,
   "metadata": {},
   "outputs": [
    {
     "data": {
      "image/png": "[encoded data removed]",
      "text/plain": [
       "<Figure size 432x288 with 1 Axes>"
      ]
     },
     "metadata": {
      "needs_background": "light"
     },
     "output_type": "display_data"
    },
    {
     "name": "stdout",
     "output_type": "stream",
     "text": [
      "Episode 1000 \n",
      " 100 episode moving avg: 142.76\n"
     ]
    }
   ],
   "source": [
    "batch_size = 256\n",
    "gamma = 0.999 #discount factor for reward used in bellman eq\n",
    "#starting, ending, decay rate of exploration rate - epsilon\n",
    "eps_start = 1\n",
    "eps_end = 0.01\n",
    "eps_decay = 0.001\n",
    "\n",
    "#this is how frequently in terms of episodes, we update the target networks weights using policy networks weights - we are using 10 here; update happens every 10 episodes [this is to avoid tail chasing head problem]\n",
    "target_update = 10\n",
    "memory_size = 100000 #capacity of replay memory\n",
    "lr = 0.001 #learningRate\n",
    "num_episodes = 1000\n",
    "\n",
    "\n",
    "device = torch.device(\"cuda\" if torch.cuda.is_available() else \"cpu\")\n",
    "\n",
    "\n",
    "em = CartPoleEnvManager(device)\n",
    "strategy = EpsilonGreedyStrategy(eps_start, eps_end, eps_decay)\n",
    "\n",
    "\n",
    "agent = Agent(strategy, em.num_actions_available(), device)\n",
    "memory = ReplayMemory(memory_size)\n",
    "\n",
    "\n",
    "#define policy and target networks\n",
    "policy_net = DQN(em.get_screen_height(), em.get_screen_width()).to(device)\n",
    "target_net = DQN(em.get_screen_height(), em.get_screen_width()).to(device)\n",
    "\n",
    "#set weights and biases that are in policy net to target net using PyTorch's state.dict() and load_state_dict()\n",
    "target_net.load_state_dict(policy_net.state_dict())\n",
    "target_net.eval() #target net is only inference, eval tells that\n",
    "\n",
    "optimizer = optim.Adam(params=policy_net.parameters(), lr=lr)\n",
    "\n",
    "\n",
    "episode_durations = [] #We’re going to be storing our episode_durations during training in order to plot them using the plot() function we developed last time, so we create an empty list to store them in.\n",
    "\n",
    "#follwoing below Psuedocode:\n",
    "# 1.Initialize replay memory capacity.\n",
    "# 2.Initialize the policy network with random weights.\n",
    "# 3.Clone the policy network, and call it the target network.\n",
    "# 4.For each episode:\n",
    "#     1.Initialize the starting state.\n",
    "#     2.For each time step:\n",
    "#         1.Select an action.\n",
    "#             Via exploration or exploitation\n",
    "#         2.Execute selected action in an emulator.\n",
    "#         3.Observe reward and next state.\n",
    "#         4.Store experience in replay memory.\n",
    "#         5.Sample random batch from replay memory.\n",
    "#         6.Preprocess states from batch.\n",
    "#         7.Pass batch of preprocessed states to policy network.\n",
    "#         8.Calculate loss between output Q-values and target Q-values.\n",
    "#             Requires a pass to the target network for the next state\n",
    "#         9.Gradient descent updates weights in the policy network to minimize loss.\n",
    "#             After  time steps, weights in the target network are updated to the weights in the policy network.\n",
    "\n",
    "#step4\n",
    "for episode in range(num_episodes):\n",
    "    em.reset()\n",
    "    state = em.get_state()\n",
    "    \n",
    "    #step4.2\n",
    "    for timestep in count():\n",
    "        action = agent.select_action(state, policy_net) #4.2.1\n",
    "        reward = em.take_action(action) #4.2.3\n",
    "        next_state = em.get_state()\n",
    "        memory.push(Experience(state, action, next_state, reward)) #4.2.4\n",
    "        state = next_state\n",
    "        \n",
    "        #step4.2.5\n",
    "        if memory.can_provide_sample(batch_size):\n",
    "            experiences = memory.sample(batch_size)\n",
    "            states, actions, rewards, next_states = extract_tensors(experiences)\n",
    "\n",
    "            current_q_values = QValues.get_current(policy_net, states, actions) #this will be predicted q values of the state\n",
    "            next_q_values = QValues.get_next(target_net, next_states) #this will be used to find max q value state action pair for the next state - used for calculating right side of bellman equation part. After calculating this can be compared with the above line current q value to optimise the policy net\n",
    "            target_q_values = (next_q_values * gamma) + rewards\n",
    "            \n",
    "            loss = F.mse_loss(current_q_values, target_q_values.unsqueeze(1))\n",
    "            optimizer.zero_grad() #This function sets the gradients of all the weights and biases in the policy_net to zero. Since PyTorch accumulates the gradients when it does backprop, we need to call zero_grad() before backprop occurs. Otherwise, if we didn’t zero out the gradients each time, then we’d be accumulating gradients across all backprop runs.\n",
    "            loss.backward() #We then call loss.backward(), which computes the gradient of the loss with respect to all the weights and biases in the policy_net.\n",
    "            optimizer.step() #We now call step() on our optimizer, which updates the weights and biases with the gradients that were computed when we called backward() on our loss.\n",
    "        \n",
    "        if em.done:\n",
    "            episode_durations.append(timestep)\n",
    "            plot(episode_durations, 100)\n",
    "            break\n",
    "            \n",
    "        if episode % target_update == 0:\n",
    "            target_net.load_state_dict(policy_net.state_dict())\n",
    "\n",
    "em.close()\n",
    "        "
   ]
  },
  {
   "cell_type": "markdown",
   "metadata": {},
   "source": [
    "<h3>Extract Tensors</h3>"
   ]
  },
  {
   "cell_type": "code",
   "execution_count": 11,
   "metadata": {},
   "outputs": [],
   "source": [
    "def extract_tensors(experiences):\n",
    "    # Convert batch of Experiences to Experience of batches\n",
    "    batch = Experience(*zip(*experiences))\n",
    "\n",
    "    t1 = torch.cat(batch.state)\n",
    "    t2 = torch.cat(batch.action)\n",
    "    t3 = torch.cat(batch.reward)\n",
    "    t4 = torch.cat(batch.next_state)\n",
    "\n",
    "    return (t1,t2,t3,t4)\n"
   ]
  },
  {
   "cell_type": "markdown",
   "metadata": {},
   "source": [
    "<h3>Example on Extract Tensors</h3>"
   ]
  },
  {
   "cell_type": "code",
   "execution_count": 25,
   "metadata": {},
   "outputs": [
    {
     "data": {
      "text/plain": [
       "[Experience(state=1, action=1, next_state=1, reward=1),\n",
       " Experience(state=2, action=2, next_state=2, reward=2),\n",
       " Experience(state=3, action=3, next_state=3, reward=3)]"
      ]
     },
     "execution_count": 25,
     "metadata": {},
     "output_type": "execute_result"
    }
   ],
   "source": [
    "#Example:\n",
    "e1 = Experience(1,1,1,1)\n",
    "e2 = Experience(2,2,2,2)\n",
    "e3 = Experience(3,3,3,3)\n",
    "\n",
    "experiences = [e1,e2,e3]\n",
    "experiences"
   ]
  },
  {
   "cell_type": "code",
   "execution_count": 26,
   "metadata": {},
   "outputs": [
    {
     "data": {
      "text/plain": [
       "Experience(state=(1, 2, 3), action=(1, 2, 3), next_state=(1, 2, 3), reward=(1, 2, 3))"
      ]
     },
     "execution_count": 26,
     "metadata": {},
     "output_type": "execute_result"
    }
   ],
   "source": [
    "batch = Experience(*zip(*experiences))\n",
    "batch"
   ]
  },
  {
   "cell_type": "code",
   "execution_count": 28,
   "metadata": {},
   "outputs": [],
   "source": [
    "# t1 = torch.cat(batch.state)\n",
    "# t2 = torch.cat(batch.action)\n",
    "# t3 = torch.cat(batch.reward)\n",
    "# t4 = torch.cat(batch.next_state)\n",
    "#All the four above makes individula tensors for state, actiuon, reward, next state\n",
    "#return (t1,t2,t3,t4) -> returns state tensor, reward tensor, action tensor and next_State tensor"
   ]
  },
  {
   "cell_type": "markdown",
   "metadata": {},
   "source": [
    "<h3>QValue Calculator</h3>"
   ]
  },
  {
   "cell_type": "code",
   "execution_count": 12,
   "metadata": {},
   "outputs": [],
   "source": [
    "class QValues():\n",
    "    device = torch.device(\"cuda\" if torch.cuda.is_available() else \"cpu\")\n",
    "    \n",
    "    @staticmethod #these methods can be called without creating a class instance because they are static methods\n",
    "    def get_current(policy_net, states, actions): #states and actions are the state action pairs sampled from replay memory\n",
    "        return policy_net(states).gather(dim=1, index=actions.unsqueeze(-1)) #returns predicted qvalues for specific state action pairs passed\n",
    "    \n",
    "    @staticmethod        \n",
    "    def get_next(target_net, next_states): \n",
    "        #finding final_States locations -> as the reward obtained would be zero therafter -> therefore no pointing in sending them to target network for a prediction\n",
    "        final_state_locations = next_states.flatten(start_dim=1) \\\n",
    "            .max(dim=1)[0].eq(0).type(torch.bool)\n",
    "        non_final_state_locations = (final_state_locations == False)\n",
    "        non_final_states = next_states[non_final_state_locations]\n",
    "        batch_size = next_states.shape[0]\n",
    "        values = torch.zeros(batch_size).to(QValues.device)\n",
    "        values[non_final_state_locations] = target_net(non_final_states).max(dim=1)[0].detach()\n",
    "        #This leaves us with a tensor that contains zeros as the q-values associated with any final state and contains the target_net's maximum predicted q-value across all actions for each non-final state. This result is what is finally returned by get_next().\n",
    "        return values\n",
    "    \n",
    "    #The whole point of all this code in this function was to find out if we have any final states in our next_states tensor. If we do, then we need to find out where they are so that we don’t pass them to the target_net. We don’t want to pass them to the target_net for a predicted q-value since we know that their associated q-values will be zero."
   ]
  },
  {
   "cell_type": "code",
   "execution_count": null,
   "metadata": {},
   "outputs": [],
   "source": []
  }
 ],
 "metadata": {
  "kernelspec": {
   "display_name": "Python 3",
   "language": "python",
   "name": "python3"
  },
  "language_info": {
   "codemirror_mode": {
    "name": "ipython",
    "version": 3
   },
   "file_extension": ".py",
   "mimetype": "text/x-python",
   "name": "python",
   "nbconvert_exporter": "python",
   "pygments_lexer": "ipython3",
   "version": "3.7.9"
  }
 },
 "nbformat": 4,
 "nbformat_minor": 4
}
