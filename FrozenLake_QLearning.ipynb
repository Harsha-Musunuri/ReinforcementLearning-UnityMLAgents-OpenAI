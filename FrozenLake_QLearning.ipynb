{
 "cells": [
  {
   "cell_type": "code",
   "execution_count": 1,
   "metadata": {},
   "outputs": [],
   "source": [
    "import numpy as np"
   ]
  },
  {
   "cell_type": "code",
   "execution_count": 2,
   "metadata": {},
   "outputs": [],
   "source": [
    "import gym\n",
    "import random\n",
    "import time\n",
    "from IPython.display import clear_output"
   ]
  },
  {
   "cell_type": "code",
   "execution_count": 3,
   "metadata": {},
   "outputs": [],
   "source": [
    "env = gym.make(\"FrozenLake-v0\") #take a env from gym"
   ]
  },
  {
   "cell_type": "markdown",
   "metadata": {},
   "source": [
    "<h3> Frozen Lake </h3>\n",
    "<img src=\"FrozenLake.png\">"
   ]
  },
  {
   "cell_type": "markdown",
   "metadata": {},
   "source": [
    "<h3>Q_values initialization</h3>"
   ]
  },
  {
   "cell_type": "code",
   "execution_count": 5,
   "metadata": {},
   "outputs": [
    {
     "name": "stdout",
     "output_type": "stream",
     "text": [
      "[[0. 0. 0. 0.]\n",
      " [0. 0. 0. 0.]\n",
      " [0. 0. 0. 0.]\n",
      " [0. 0. 0. 0.]\n",
      " [0. 0. 0. 0.]\n",
      " [0. 0. 0. 0.]\n",
      " [0. 0. 0. 0.]\n",
      " [0. 0. 0. 0.]\n",
      " [0. 0. 0. 0.]\n",
      " [0. 0. 0. 0.]\n",
      " [0. 0. 0. 0.]\n",
      " [0. 0. 0. 0.]\n",
      " [0. 0. 0. 0.]\n",
      " [0. 0. 0. 0.]\n",
      " [0. 0. 0. 0.]\n",
      " [0. 0. 0. 0.]]\n"
     ]
    }
   ],
   "source": [
    "#Initialize Q values to be 0 - but to do this we need the total number of states and actions possible in the env\n",
    "action_space_size = env.action_space.n\n",
    "state_space_size = env.observation_space.n\n",
    "#now q table is simple zeros with a matrix size states X actions\n",
    "q_table = np.zeros((state_space_size,action_space_size))\n",
    "#printing the q_table\n",
    "print(q_table)"
   ]
  },
  {
   "cell_type": "markdown",
   "metadata": {},
   "source": [
    "<h3>Parameters for training</h3>\n",
    "<p>These are the parameters we play with to see how the agent is learning and efficiency of learning</p>"
   ]
  },
  {
   "cell_type": "code",
   "execution_count": 7,
   "metadata": {},
   "outputs": [],
   "source": [
    "num_episodes = 10000 #number of episodes we want our agent to play during training (an episode = start state to terminal state)\n",
    "max_steps_per_episode = 100 #In cases where the agent never gets to the terminal state in an episode, this helps to terminate an episode after the 100th step\n",
    "\n",
    "learning_rate = 0.1 #rate at the which new q value influences the old q value\n",
    "discount_rate = 0.99 # future reward discounting rate i:e gamma\n",
    "\n",
    "exploration_rate = 1\n",
    "#max and min explorationr rate are just bounds to tell how how the exploration rate can be, you will realise why we used this in a while\n",
    "max_exploration_rate = 1\n",
    "min_exploration_rate = 0.01\n",
    "exploration_decay_rate = 0.001"
   ]
  },
  {
   "cell_type": "markdown",
   "metadata": {},
   "source": [
    "<h3>Q Learning</h3>"
   ]
  },
  {
   "cell_type": "code",
   "execution_count": 9,
   "metadata": {},
   "outputs": [
    {
     "name": "stdout",
     "output_type": "stream",
     "text": [
      "1000 : 0.04300000000000003\n",
      "2000 : 0.21100000000000016\n",
      "3000 : 0.4120000000000003\n",
      "4000 : 0.5620000000000004\n",
      "5000 : 0.6230000000000004\n",
      "6000 : 0.6720000000000005\n",
      "7000 : 0.6770000000000005\n",
      "8000 : 0.6660000000000005\n",
      "9000 : 0.6790000000000005\n",
      "10000 : 0.6560000000000005\n",
      "\n",
      "\n",
      "**************Q-Table***********\n",
      "\n",
      "\n",
      "[[0.53490798 0.46737174 0.47546197 0.44837305]\n",
      " [0.26576148 0.39233247 0.30790063 0.46327756]\n",
      " [0.39457154 0.39242372 0.39673602 0.41027264]\n",
      " [0.2578304  0.32185239 0.2829496  0.39815079]\n",
      " [0.56447611 0.37660495 0.37483505 0.40639473]\n",
      " [0.         0.         0.         0.        ]\n",
      " [0.32329843 0.15687394 0.20649045 0.11045486]\n",
      " [0.         0.         0.         0.        ]\n",
      " [0.3962683  0.2855091  0.4293383  0.59941775]\n",
      " [0.48699391 0.6449265  0.46657338 0.2533498 ]\n",
      " [0.67709732 0.35528348 0.38278114 0.3476013 ]\n",
      " [0.         0.         0.         0.        ]\n",
      " [0.         0.         0.         0.        ]\n",
      " [0.48923541 0.60707223 0.73858895 0.46736506]\n",
      " [0.71823673 0.8885861  0.7177262  0.70521304]\n",
      " [0.         0.         0.         0.        ]]\n"
     ]
    }
   ],
   "source": [
    "rewards_all_episodes = [] #a list to hold all rewards that we get in each episode\n",
    "\n",
    "#Q-Learning Algorithm\n",
    "\n",
    "for episode in range(num_episodes): #Loop telling what happens in each episode\n",
    "    state = env.reset() #reset the state of the env after each episode to starting state S as shown in above diagram attached \n",
    "    \n",
    "    done = False #keeps a track of whether the episode is done or not\n",
    "    rewards_current_episode = 0\n",
    "    \n",
    "    for steps in range(max_steps_per_episode): #Loop telling what happens in each step of each episode\n",
    "        \n",
    "        #First do the exploration vs exploitation trade off\n",
    "        exploration_rate_threshold = random.uniform(0,1) #helps to decide if the agent explores or exploits in the current time step\n",
    "        if exploration_rate_threshold > exploration_rate:\n",
    "            #then choose exploitation i:e choose the action that gives highest reward\n",
    "            action = np.argmax(q_table[state,:])\n",
    "        else:\n",
    "            #choose exploration\n",
    "            action = env.action_space.sample() #sampling an action randomly from the availble actions of the environment\n",
    "            \n",
    "        new_state, reward, done, info = env.step(action) #passing action to env, step() returns a tuple -> new state, the reward for the action we took, whether or not our action ended our episode, some diagnostic information about the env that helps in debugging\n",
    "        \n",
    "        #After getting reward by taking an action from the previous step -> update Q table\n",
    "        \n",
    "        #update Q Table\n",
    "        q_table[state, action] = q_table[state, action]*(1-learning_rate) + \\\n",
    "            learning_rate*(reward + discount_rate*np.max(q_table[new_state,:]))\n",
    "        \n",
    "        #np.max(q_table[new_state,:] gives the max value that can be gotten starting from new state and choosing any availble action of the environment\n",
    "        \n",
    "        #Update current state as the new state\n",
    "        state = new_state\n",
    "        rewards_current_episode+=reward\n",
    "        \n",
    "        if done==True:\n",
    "            break #if episode is done because of falling into Hole or reaching goal, exit the episode and continue with the next episode\n",
    "    \n",
    "    # exponential decaying the explorationg rate, hehe -> e = min_e+(max_e-min_e)*e^(-decayrate*episode)\n",
    "    #Once an episode is done, decay the exploration rate, so slowly exploitation will be dominant action decision maker\n",
    "    exploration_rate = min_exploration_rate + (max_exploration_rate-min_exploration_rate)*np.exp(-exploration_decay_rate*episode)\n",
    "    \n",
    "    #Append the current episode's reward to rewards_all_episodes\n",
    "    rewards_all_episodes.append(rewards_current_episode)\n",
    "    \n",
    "#After all episodes are finished - calculate average reward per thousand episodes\n",
    "rewards_per_thousand_episodes = np.split(np.array(rewards_all_episodes),num_episodes/1000) #splitting the array into multiple sub-arrays each of size num_episodes/1000\n",
    "count =1000\n",
    "for r in rewards_per_thousand_episodes:\n",
    "    print(count, \":\", str(sum(r/1000)))\n",
    "    count+=1000\n",
    "    \n",
    "    \n",
    "#print updated Q table\n",
    "print(\"\\n\\n**************Q-Table***********\\n\\n\")\n",
    "print(q_table)\n",
    "        "
   ]
  },
  {
   "cell_type": "code",
   "execution_count": 10,
   "metadata": {},
   "outputs": [
    {
     "name": "stdout",
     "output_type": "stream",
     "text": [
      "  (Down)\n",
      "SFFF\n",
      "FHFH\n",
      "\u001b[41mF\u001b[0mFFH\n",
      "HFFG\n",
      "******You fell in hole, game over!!**********\n"
     ]
    }
   ],
   "source": [
    "#using the obtained policy on the agent\n",
    "for episode in range(3):\n",
    "    state =env.reset()\n",
    "    done = False\n",
    "    print(\"*********Episode\", episode+1, \"********\\n\\n\\n\" )\n",
    "    time.sleep(1) #sleep 1 minute, so we can read the display before it disappears from the screen\n",
    "    \n",
    "    for step in range(max_steps_per_episode):\n",
    "        clear_output(wait=True) #this is IPython display fn that clears the o/p from the current cell in the jupyter notebook & with wait = True it waits to clear the o/p until there is another otuput to show\n",
    "        \n",
    "        env.render() #to visually see the agent\n",
    "        time.sleep(0.3)\n",
    "        \n",
    "        action=np.argmax(q_table[state,:]) #take the action that gives max reward out of availble actions as per the learned q_table\n",
    "        new_state, reward, done, info = env.step(action)\n",
    "        \n",
    "        if done:\n",
    "            \n",
    "            clear_output(wait=True)\n",
    "            env.render()\n",
    "            \n",
    "            if reward == 1:\n",
    "                print(\"*****Yo, You reached the Goal!*******\")\n",
    "                time.sleep(3)\n",
    "            else:\n",
    "                print(\"******You fell in hole, game over!!**********\")\n",
    "                time.sleep(3)\n",
    "            clear_output(wait=True)\n",
    "            break\n",
    "        \n",
    "        state=new_state\n",
    "            "
   ]
  },
  {
   "cell_type": "code",
   "execution_count": 11,
   "metadata": {},
   "outputs": [
    {
     "name": "stdout",
     "output_type": "stream",
     "text": [
      "Hell Yeah!!!!! I Love Reinforcement Learning!!!!!!\n"
     ]
    }
   ],
   "source": [
    "print(\"Hell Yeah!!!!! I Love Reinforcement Learning!!!!!!\")"
   ]
  },
  {
   "cell_type": "code",
   "execution_count": null,
   "metadata": {},
   "outputs": [],
   "source": []
  }
 ],
 "metadata": {
  "kernelspec": {
   "display_name": "Python 3",
   "language": "python",
   "name": "python3"
  },
  "language_info": {
   "codemirror_mode": {
    "name": "ipython",
    "version": 3
   },
   "file_extension": ".py",
   "mimetype": "text/x-python",
   "name": "python",
   "nbconvert_exporter": "python",
   "pygments_lexer": "ipython3",
   "version": "3.6.12"
  }
 },
 "nbformat": 4,
 "nbformat_minor": 4
}
