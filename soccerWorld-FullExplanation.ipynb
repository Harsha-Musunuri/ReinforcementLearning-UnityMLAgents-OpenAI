{
 "cells": [
  {
   "cell_type": "markdown",
   "metadata": {
    "id": "jz81TWAkbuFY"
   },
   "source": [
    "## Train the soccerWorld Environment with Q-Learning"
   ]
  },
  {
   "cell_type": "markdown",
   "metadata": {
    "id": "29n3dt1Zx5ty"
   },
   "source": [
    "### SoccerWorld Env"
   ]
  },
  {
   "cell_type": "markdown",
   "metadata": {
    "id": "pZhVRfdoyPmv"
   },
   "source": [
    "The SoccerWorld Env is a simple ball to goal environment. Where the ball going to opponent is considered reward of -1 and to the goal reward of +1\n",
    "\n",
    "The observation is an image obtained by a camera on top of the soccerWorld.\n",
    "\n",
    "The Action space is continous : <br>\n",
    "    - X direction force <br>\n",
    "    - Z direction force <br>\n",
    "\n",
    "Goal is to maximise reward - We use DQN for the same\n",
    "\n",
    "\n"
   ]
  },
  {
   "cell_type": "markdown",
   "metadata": {
    "id": "4Gt-ZydJyJWD"
   },
   "source": [
    "### The Q-Learning Algorithm\n"
   ]
  },
  {
   "cell_type": "markdown",
   "metadata": {
    "id": "KA1qOgfq0Xdv"
   },
   "source": [
    "In this Notebook, we will implement a very simple Q-Learning algorithm. We will use [pytorch](https://pytorch.org/) to do so.\n",
    "\n",
    "Below is the code to create the neural network we will use in the Notebook."
   ]
  },
  {
   "cell_type": "markdown",
   "metadata": {},
   "source": [
    "<h3>Conv Calculations</h3>\n",
    "<img src=\"convCalc.png\" alt=\"convCalculations\">\n",
    "\n",
    "### Eh? But why do we need this ?  <br >Because right after conv layers we have regular neural layers and we got to tell those layers what inputs they are gonna get!\n",
    "\n",
    "#### conv2d Initialization:\n",
    "torch.nn.Conv2d(in_channels: int, out_channels: int, kernel_size: Union[T, Tuple[T, T]], stride: Union[T, Tuple[T, T]] = 1, padding: Union[T, Tuple[T, T]] = 0, dilation: Union[T, Tuple[T, T]] = 1, groups: int = 1, bias: bool = True, padding_mode: str = 'zeros')"
   ]
  },
  {
   "cell_type": "markdown",
   "metadata": {},
   "source": [
    "<h3> ConvTransposeCalculations</h3>\n",
    "<img src=\"convTranspCalc.png\" alt=\"convTransposeCalculations\">\n",
    "\n",
    "<br>\n",
    "<br>\n",
    "H_out =(H_in − 1)×stride[0]−2×padding[0]+dilation[0]×(kernel_size[0]−1)+output_padding[0]+1 <br>\n",
    "W_out =(W_in − 1)×stride[1]−2×padding[1]+dilation[1]×(kernel_size[1]−1)+output_padding[1]+1\n",
    "\n",
    "#### convTranspose2D Initialization:\n",
    "torch.nn.ConvTranspose2d(in_channels: int, out_channels: int, kernel_size: Union[T, Tuple[T, T]], stride: Union[T, Tuple[T, T]] = 1, padding: Union[T, Tuple[T, T]] = 0, output_padding: Union[T, Tuple[T, T]] = 0, groups: int = 1, bias: bool = True, dilation: int = 1, padding_mode: str = 'zeros')"
   ]
  },
  {
   "cell_type": "code",
   "execution_count": 1,
   "metadata": {
    "id": "q79rUp_Sx6A_"
   },
   "outputs": [],
   "source": [
    "import torch\n",
    "from typing import Tuple\n",
    "from math import floor\n",
    "\n",
    "\n",
    "class VisualQNetwork(torch.nn.Module):\n",
    "  def __init__(\n",
    "    self,\n",
    "    input_shape: Tuple[int, int, int], \n",
    "    encoding_size: int, \n",
    "    output_size: int\n",
    "  ):\n",
    "    \"\"\"\n",
    "    Define Architecture:\n",
    "    Input: Env snapshot\n",
    "    Output: Actions 2 of them\n",
    "    \"\"\"\n",
    "    super(VisualQNetwork, self).__init__()\n",
    "    #input data characterstics\n",
    "    height = input_shape[0]\n",
    "    width = input_shape[1]\n",
    "    initial_channels = input_shape[2]\n",
    "    \n",
    "    #ConvCalc\n",
    "    conv_1_hw = self.conv_output_shape((height, width), 8, 4)\n",
    "    conv_2_hw = self.conv_output_shape(conv_1_hw, 4, 2)\n",
    "    self.final_flat = conv_2_hw[0] * conv_2_hw[1] * 32 # we use this as the input to over first FC layer\n",
    "    \n",
    "    #Conv Layers begin\n",
    "    #we are using Kernel size of 8, stride of 4, 16 represents number of channels out of this layer. \n",
    "    #Here, 16 represents we are using 16 -> 8x8x3 filters -> output would be of 16 channel\n",
    "    self.conv1 = torch.nn.Conv2d(initial_channels, 16, [8, 8], [4, 4])\n",
    "    #Here, 32 represents we are using 32 -> 4x4x16 filters -> output would be of 32 channel\n",
    "    self.conv2 = torch.nn.Conv2d(16, 32, [4, 4], [2, 2])\n",
    "    #Conv layers end\n",
    "    \n",
    "    #Linear Layers begin\n",
    "    self.dense1 = torch.nn.Linear(self.final_flat, encoding_size)\n",
    "    self.dense2 = torch.nn.Linear(encoding_size, output_size)\n",
    "    #Linear Layers end\n",
    "    \n",
    "  def forward(self, visual_obs: torch.tensor): #convert the input np.array to tensor\n",
    "    #visual_obs is a torch.Size([1, 100, 100, 3])\n",
    "    visual_obs = visual_obs.permute(0, 3, 1, 2) #0 represent nsmaples= 1; 3 represent channels = 3, 1 represent height= 100, 2 represent width= 100\n",
    "    # we are needing a input of shape 1 3 100 100 as nn.Conv2d will take in a 4D Tensor of nSamples x nChannels x Height x Width.\n",
    "    conv_1 = torch.relu(self.conv1(visual_obs))\n",
    "    conv_2 = torch.relu(self.conv2(conv_1))\n",
    "    hidden = self.dense1(conv_2.reshape([-1, self.final_flat])) #reshapes the conv2 to 1 X final_flat; 1 represent 1 datapoint to Linear; It's like m;\n",
    "    '''\n",
    "    Example:\n",
    "    m = torch.nn.Linear(20, 30) -> input features X output features\n",
    "    input = torch.randn(128, 20)\n",
    "    print(\"input is: \",input,\"\\n\\n\\n\")\n",
    "    print(\"input size: \",input.shape,\"\\n\\n\\n\") 128 X 20\n",
    "    output = m(input)\n",
    "    print(output.size()) -> 12 X 30\n",
    "\n",
    "    '''\n",
    "    hidden = torch.relu(hidden)\n",
    "    hidden = self.dense2(hidden)\n",
    "    return hidden #tensor of 2 q values corresponding to 2 actions\n",
    "\n",
    "  @staticmethod #a static method can be called without creating a class instance as well.\n",
    "  def conv_output_shape(\n",
    "    h_w: Tuple[int, int],\n",
    "    kernel_size: int = 1,\n",
    "    stride: int = 1,\n",
    "    pad: int = 0,\n",
    "    dilation: int = 1,\n",
    "  ):\n",
    "    \"\"\"\n",
    "    Computes the height and width of the output of a convolution layer using above mentioned formula.\n",
    "    \"\"\"\n",
    "    h = floor(\n",
    "      ((h_w[0] + (2 * pad) - (dilation * (kernel_size - 1)) - 1) / stride) + 1\n",
    "    )\n",
    "    w = floor(\n",
    "      ((h_w[1] + (2 * pad) - (dilation * (kernel_size - 1)) - 1) / stride) + 1\n",
    "    )\n",
    "    return h, w\n"
   ]
  },
  {
   "cell_type": "code",
   "execution_count": 2,
   "metadata": {},
   "outputs": [],
   "source": [
    "net = VisualQNetwork((100, 100, 3), 126, 2)"
   ]
  },
  {
   "cell_type": "code",
   "execution_count": 3,
   "metadata": {},
   "outputs": [
    {
     "name": "stdout",
     "output_type": "stream",
     "text": [
      "VisualQNetwork(\n",
      "  (conv1): Conv2d(3, 16, kernel_size=[8, 8], stride=[4, 4])\n",
      "  (conv2): Conv2d(16, 32, kernel_size=[4, 4], stride=[2, 2])\n",
      "  (dense1): Linear(in_features=3872, out_features=126, bias=True)\n",
      "  (dense2): Linear(in_features=126, out_features=2, bias=True)\n",
      ")\n"
     ]
    }
   ],
   "source": [
    "print(net)"
   ]
  },
  {
   "cell_type": "markdown",
   "metadata": {
    "id": "EZoaEBAo2L0F"
   },
   "source": [
    "## Experience class to store the data we will use to train the Q-Learning algorithm."
   ]
  },
  {
   "cell_type": "code",
   "execution_count": 4,
   "metadata": {
    "id": "L772fe2q39DO"
   },
   "outputs": [],
   "source": [
    "import numpy as np\n",
    "from typing import NamedTuple, List\n",
    "\n",
    "\n",
    "class Experience(NamedTuple):\n",
    "  #declare the datatypes\n",
    "  obs: np.ndarray #st\n",
    "  action: np.ndarray #at\n",
    "  reward: float #rt+1\n",
    "  done: bool #is the episode over ? will be true when there is a agent in terminal steps!\n",
    "  next_obs: np.ndarray #st+1\n",
    "\n",
    "#Global Variable for Trajectory and Buffer!\n",
    "# A Trajectory is an ordered list of Experiences\n",
    "Trajectory = List[Experience]\n",
    "\n",
    "# A Buffer is unordered list of Experiences; this is to break the correlation between experiences; for more general represenation\n",
    "Buffer = List[Experience]"
   ]
  },
  {
   "cell_type": "markdown",
   "metadata": {},
   "source": [
    "### Example\n",
    "Experience(obs=, action=, reward=, done=, next_obs=)"
   ]
  },
  {
   "cell_type": "markdown",
   "metadata": {},
   "source": [
    "### Trainer class is to collect data from the Environment according to a Policy, and then train the Q-Network with that data and the power of Bellman equations.\n",
    "\n",
    "### Pseudocode"
   ]
  },
  {
   "cell_type": "code",
   "execution_count": 5,
   "metadata": {
    "id": "6HsM1d5I3_Tj"
   },
   "outputs": [],
   "source": [
    "#Psuedocode:\n",
    "# 1.Initialize replay memory capacity.\n",
    "# 2.Initialize the policy network with random weights.\n",
    "# 3.Clone the policy network, and call it the target network.\n",
    "# 4.For each episode:\n",
    "#     1.Initialize the starting state.\n",
    "#     2.For each time step:\n",
    "#         1.Select an action.\n",
    "#             Via exploration or exploitation\n",
    "#         2.Execute selected action in an emulator.\n",
    "#         3.Observe reward and next state.\n",
    "#         4.Store experience in replay memory.\n",
    "#         5.Sample random batch from replay memory.\n",
    "#         6.Preprocess states from batch.\n",
    "#         7.Pass batch of preprocessed states to policy network.\n",
    "#         8.Calculate loss between output Q-values and target Q-values.\n",
    "#             Requires a pass to the target network for the next state\n",
    "#         9.Gradient descent updates weights in the policy network to minimize loss.\n",
    "#             After  time steps, weights in the target network are updated to the weights in the policy network.\n"
   ]
  },
  {
   "cell_type": "code",
   "execution_count": 8,
   "metadata": {
    "id": "KkzBoRJCb18t"
   },
   "outputs": [],
   "source": [
    "from mlagents_envs.environment import BaseEnv\n",
    "from typing import Dict\n",
    "'''\n",
    "Using Dict\n",
    "For mappings, we need the types of both keys and values\n",
    "x: Dict[str, float] = {'field': 2.0}\n",
    "'''\n",
    "import random\n",
    "\n",
    "\n",
    "class Trainer:\n",
    "  @staticmethod #can be called without a instance of class\n",
    "  def generate_trajectories(\n",
    "    env: BaseEnv, q_net: VisualQNetwork, buffer_size: int, epsilon: float\n",
    "  ):\n",
    "    \"\"\"\n",
    "    Params:\n",
    "    Input: Unity Environment | Q-Network | Buffer size for Experience Replay | Epsilon for epislon greedy strategy\n",
    "    Given a Unity Environment and a Q-Network, this method will generate a\n",
    "    buffer of Experiences obtained by running the Environment with the Policy\n",
    "    derived from the Q-Network.\n",
    "    BaseEnv: The Base Env UnityEnvironment gives us, it will be picked if no env is passed!\n",
    "    q_net: The Q-Network used to collect the data.\n",
    "    buffer_size: The minimum size of the buffer this method will return.\n",
    "    epsilon: random sample between 0 and 1 . For exploration/exploitation\n",
    "    \n",
    "    Returns: \n",
    "    A Tuple containing the created buffer of experiences and the average cumulative reward the Agent obtained.\n",
    "    \"\"\"\n",
    "    # Create an empty Buffer\n",
    "    buffer: Buffer = [] #list of Experiences\n",
    "\n",
    "    # Reset the environment\n",
    "    env.reset()\n",
    "    # Read and store the Behavior Name of the Environment\n",
    "    behavior_name = list(env.behavior_specs)[0]\n",
    "    # Read and store the Behavior Specs of the Environment\n",
    "    spec = env.behavior_specs[behavior_name]\n",
    "    #spec has all detials of Env.\n",
    "    #For example spec.observation_shapes give [(100, 100, 3)] representing one visual observation for our env!\n",
    "    \n",
    "    #Creating user Defined dictionary mappings with agentId as key, helpful when there are mutliple agents!\n",
    "    # Create a Mapping from AgentId to Trajectories - stores trajectory of an agent!\n",
    "    \n",
    "    dict_trajectories_from_agent: Dict[int, Trajectory] = {} #int is agentId\n",
    "        \n",
    "    # Create a Mapping from AgentId to the last observation st of the Agent\n",
    "    dict_last_obs_from_agent: Dict[int, np.ndarray] = {}\n",
    "        \n",
    "    # Create a Mapping from AgentId to the last action at of the Agent\n",
    "    dict_last_action_from_agent: Dict[int, np.ndarray] = {}\n",
    "        \n",
    "    # Create a Mapping from AgentId to cumulative reward (Only for reporting)\n",
    "    dict_cumulative_reward_from_agent: Dict[int, float] = {}\n",
    "        \n",
    "    # Create a list to store the cumulative rewards obtained so far\n",
    "    cumulative_rewards: List[float] = []\n",
    "\n",
    "    while len(buffer) < buffer_size:  # While not enough experiences in the buffer\n",
    "      # Get the Decision Steps and Terminal Steps of the Agents\n",
    "      decision_steps, terminal_steps = env.get_steps(behavior_name)\n",
    "\n",
    "      # For all Agents with a Terminal Step:\n",
    "      for agent_id_terminated in terminal_steps:\n",
    "        '''\n",
    "        Experience:\n",
    "        obs: np.ndarray\n",
    "        action: np.ndarray\n",
    "        reward: float\n",
    "        done: bool\n",
    "        next_obs: np.ndarray\n",
    "        '''\n",
    "\n",
    "        last_experience = Experience(\n",
    "          obs=dict_last_obs_from_agent[agent_id_terminated].copy(),\n",
    "          reward=terminal_steps[agent_id_terminated].reward,\n",
    "          done=not terminal_steps[agent_id_terminated].interrupted,\n",
    "          action=dict_last_action_from_agent[agent_id_terminated].copy(),\n",
    "          next_obs=terminal_steps[agent_id_terminated].obs[0],\n",
    "        )\n",
    "        \n",
    "        # Clear its last observation and action (Since the trajectory is over)\n",
    "        dict_last_obs_from_agent.pop(agent_id_terminated)\n",
    "        dict_last_action_from_agent.pop(agent_id_terminated)\n",
    "        \n",
    "        # Report the cumulative reward\n",
    "        cumulative_reward = (\n",
    "          dict_cumulative_reward_from_agent.pop(agent_id_terminated) #existing rewards + terminal reward\n",
    "          + terminal_steps[agent_id_terminated].reward\n",
    "        )\n",
    "        cumulative_rewards.append(cumulative_reward)\n",
    "        \n",
    "        # Add the Trajectory and the last experience to the buffer\n",
    "        buffer.extend(dict_trajectories_from_agent.pop(agent_id_terminated))\n",
    "        buffer.append(last_experience)\n",
    "\n",
    "      # For all Agents with a Decision Step:\n",
    "      for agent_id_decisions in decision_steps:\n",
    "        # If the Agent does not have a Trajectory, create an empty one\n",
    "        if agent_id_decisions not in dict_trajectories_from_agent:\n",
    "          dict_trajectories_from_agent[agent_id_decisions] = []\n",
    "          dict_cumulative_reward_from_agent[agent_id_decisions] = 0\n",
    "\n",
    "        # If the Agent requesting a decision has a \"last observation\"\n",
    "        if agent_id_decisions in dict_last_obs_from_agent:\n",
    "          # Create an Experience from the last observation and the Decision Step\n",
    "          exp = Experience(\n",
    "            obs=dict_last_obs_from_agent[agent_id_decisions].copy(),\n",
    "            reward=decision_steps[agent_id_decisions].reward,\n",
    "            done=False,\n",
    "            action=dict_last_action_from_agent[agent_id_decisions].copy(),\n",
    "            next_obs=decision_steps[agent_id_decisions].obs[0],\n",
    "          )\n",
    "          # Update the Trajectory of the Agent\n",
    "          dict_trajectories_from_agent[agent_id_decisions].append(exp)\n",
    "          # Add reward to reward variable, is obtained!                                                                                      \n",
    "          dict_cumulative_reward_from_agent[agent_id_decisions] += (\n",
    "            decision_steps[agent_id_decisions].reward\n",
    "          )\n",
    "        \n",
    "        # Store the observation as the new \"last observation\"\n",
    "        dict_last_obs_from_agent[agent_id_decisions] = (\n",
    "          decision_steps[agent_id_decisions].obs[0]\n",
    "        )\n",
    "\n",
    "      # Generate an action for all the Agents that requested a decision\n",
    "      # Compute the values for each action given the observation\n",
    "      actions_values = (\n",
    "        q_net(torch.from_numpy(decision_steps.obs[0])).detach().numpy()\n",
    "      )\n",
    "      # Add some unit gaussian noise to actions for exploration vs exploitation thingy:\n",
    "        #if epsilon is 0 -> Exploitation else Exploration; \n",
    "      actions_values += epsilon * (\n",
    "        np.random.randn(actions_values.shape[0], actions_values.shape[1])\n",
    "      ).astype(np.float32)\n",
    "\n",
    "      actions_values.resize((len(decision_steps), 2)) #dim 1 speaks how many agents in env!\n",
    "        \n",
    "      # Store the action that was picked, it will be put in the trajectory later\n",
    "      for agent_index, agent_id in enumerate(decision_steps.agent_id):\n",
    "        dict_last_action_from_agent[agent_id] = actions_values\n",
    "\n",
    "      # Set the actions in the environment\n",
    "      env.set_actions(behavior_name, actions_values)\n",
    "        \n",
    "      # Perform a step in the simulation\n",
    "      env.step()\n",
    "        \n",
    "    return buffer, np.mean(cumulative_rewards) #returns the experience buffer and collected rewards\n",
    "\n",
    "  @staticmethod\n",
    "  def update_q_net(\n",
    "    q_net: VisualQNetwork, \n",
    "    optimizer: torch.optim, \n",
    "    buffer: Buffer, \n",
    "    action_size: int\n",
    "  ):\n",
    "    \"\"\"\n",
    "    Performs an update of the Q-Network using the provided optimizer and buffer\n",
    "    \"\"\"\n",
    "    BATCH_SIZE = 1000\n",
    "    NUM_EPOCH = 3\n",
    "    GAMMA = 0.9 #discount rate for future reward calcs\n",
    "    batch_size = min(len(buffer), BATCH_SIZE)\n",
    "    random.shuffle(buffer)\n",
    "    # Split the buffer into batches of batch_size\n",
    "    batches = [\n",
    "      buffer[batch_size * start : batch_size * (start + 1)]\n",
    "      for start in range(int(len(buffer) / batch_size))\n",
    "    ]\n",
    "    for _ in range(NUM_EPOCH):\n",
    "      for batch in batches:\n",
    "        # Create the Tensors that will be fed in the network\n",
    "        obs = torch.from_numpy(np.stack([ex.obs for ex in batch])) #all st's are stacked as a new array!\n",
    "        reward = torch.from_numpy(\n",
    "          np.array([ex.reward for ex in batch], dtype=np.float32).reshape(-1, 1)\n",
    "        ) #all rt's are made as an array!\n",
    "        done = torch.from_numpy(\n",
    "          np.array([ex.done for ex in batch], dtype=np.float32).reshape(-1, 1)\n",
    "        )\n",
    "        action = torch.from_numpy(np.stack([ex.action for ex in batch])) #all actions into stack of array!\n",
    "        next_obs = torch.from_numpy(np.stack([ex.next_obs for ex in batch])) #st+1 all st+1's as a stacked array!\n",
    "\n",
    "        # Use the Bellman equation to update the Q-Network\n",
    "        # target = rt + decayRate(max q value of actions possible on the state st+1)\n",
    "        target = (\n",
    "          reward\n",
    "          + (1.0 - done)\n",
    "          * GAMMA\n",
    "          * torch.max(q_net(next_obs).detach(), dim=1, keepdim=True).values\n",
    "        )\n",
    "#         print(\"target is :\", target, \"\\n\\n\\n\")\n",
    "\n",
    "        prediction = torch.sum(qnet(obs), dim=1, keepdim=True)\n",
    "#         print(\"prediction is :\", prediction, \"\\n\\n\\n\")\n",
    "        criterion = torch.nn.MSELoss()\n",
    "        loss = criterion(prediction, target)\n",
    "#         print(\"loss is \",loss)\n",
    "        # backpropagation\n",
    "        optimizer.zero_grad()\n",
    "        loss.backward()\n",
    "        optimizer.step()\n"
   ]
  },
  {
   "cell_type": "markdown",
   "metadata": {
    "id": "vcU4ZMAEWCvX"
   },
   "source": [
    "### Run Training"
   ]
  },
  {
   "cell_type": "code",
   "execution_count": 9,
   "metadata": {
    "id": "_lIHijQfbYjh"
   },
   "outputs": [
    {
     "name": "stdout",
     "output_type": "stream",
     "text": [
      "soccerWorld is up.\n",
      "Training step  2 \treward  0.0\n"
     ]
    },
    {
     "ename": "KeyboardInterrupt",
     "evalue": "",
     "output_type": "error",
     "traceback": [
      "\u001b[0;31m---------------------------------------------------------------------------\u001b[0m",
      "\u001b[0;31mKeyboardInterrupt\u001b[0m                         Traceback (most recent call last)",
      "\u001b[0;32m<ipython-input-9-453a09677090>\u001b[0m in \u001b[0;36m<module>\u001b[0;34m\u001b[0m\n\u001b[1;32m     32\u001b[0m \u001b[0;32mfor\u001b[0m \u001b[0mn\u001b[0m \u001b[0;32min\u001b[0m \u001b[0mrange\u001b[0m\u001b[0;34m(\u001b[0m\u001b[0mNUM_TRAINING_STEPS\u001b[0m\u001b[0;34m)\u001b[0m\u001b[0;34m:\u001b[0m\u001b[0;34m\u001b[0m\u001b[0;34m\u001b[0m\u001b[0m\n\u001b[1;32m     33\u001b[0m     \u001b[0;32mtry\u001b[0m\u001b[0;34m:\u001b[0m\u001b[0;34m\u001b[0m\u001b[0;34m\u001b[0m\u001b[0m\n\u001b[0;32m---> 34\u001b[0;31m       \u001b[0mnew_exp\u001b[0m\u001b[0;34m,\u001b[0m\u001b[0m_\u001b[0m \u001b[0;34m=\u001b[0m \u001b[0mTrainer\u001b[0m\u001b[0;34m.\u001b[0m\u001b[0mgenerate_trajectories\u001b[0m\u001b[0;34m(\u001b[0m\u001b[0menv\u001b[0m\u001b[0;34m,\u001b[0m \u001b[0mqnet\u001b[0m\u001b[0;34m,\u001b[0m \u001b[0mNUM_NEW_EXP\u001b[0m\u001b[0;34m,\u001b[0m \u001b[0mepsilon\u001b[0m\u001b[0;34m=\u001b[0m\u001b[0;36m0.1\u001b[0m\u001b[0;34m)\u001b[0m\u001b[0;34m\u001b[0m\u001b[0;34m\u001b[0m\u001b[0m\n\u001b[0m\u001b[1;32m     35\u001b[0m       \u001b[0mrandom\u001b[0m\u001b[0;34m.\u001b[0m\u001b[0mshuffle\u001b[0m\u001b[0;34m(\u001b[0m\u001b[0mexperiences\u001b[0m\u001b[0;34m)\u001b[0m\u001b[0;34m\u001b[0m\u001b[0;34m\u001b[0m\u001b[0m\n\u001b[1;32m     36\u001b[0m       \u001b[0;32mif\u001b[0m \u001b[0mlen\u001b[0m\u001b[0;34m(\u001b[0m\u001b[0mexperiences\u001b[0m\u001b[0;34m)\u001b[0m \u001b[0;34m>\u001b[0m \u001b[0mBUFFER_SIZE\u001b[0m\u001b[0;34m:\u001b[0m\u001b[0;34m\u001b[0m\u001b[0;34m\u001b[0m\u001b[0m\n",
      "\u001b[0;32m<ipython-input-8-f102917657c7>\u001b[0m in \u001b[0;36mgenerate_trajectories\u001b[0;34m(env, q_net, buffer_size, epsilon)\u001b[0m\n\u001b[1;32m    145\u001b[0m \u001b[0;34m\u001b[0m\u001b[0m\n\u001b[1;32m    146\u001b[0m       \u001b[0;31m# Perform a step in the simulation\u001b[0m\u001b[0;34m\u001b[0m\u001b[0;34m\u001b[0m\u001b[0;34m\u001b[0m\u001b[0m\n\u001b[0;32m--> 147\u001b[0;31m       \u001b[0menv\u001b[0m\u001b[0;34m.\u001b[0m\u001b[0mstep\u001b[0m\u001b[0;34m(\u001b[0m\u001b[0;34m)\u001b[0m\u001b[0;34m\u001b[0m\u001b[0;34m\u001b[0m\u001b[0m\n\u001b[0m\u001b[1;32m    148\u001b[0m \u001b[0;34m\u001b[0m\u001b[0m\n\u001b[1;32m    149\u001b[0m     \u001b[0;32mreturn\u001b[0m \u001b[0mbuffer\u001b[0m\u001b[0;34m,\u001b[0m \u001b[0mnp\u001b[0m\u001b[0;34m.\u001b[0m\u001b[0mmean\u001b[0m\u001b[0;34m(\u001b[0m\u001b[0mcumulative_rewards\u001b[0m\u001b[0;34m)\u001b[0m \u001b[0;31m#returns the experience buffer and collected rewards\u001b[0m\u001b[0;34m\u001b[0m\u001b[0;34m\u001b[0m\u001b[0m\n",
      "\u001b[0;32m~/opt/miniconda3/envs/mlAgents/lib/python3.7/site-packages/mlagents_envs/timers.py\u001b[0m in \u001b[0;36mwrapped\u001b[0;34m(*args, **kwargs)\u001b[0m\n\u001b[1;32m    303\u001b[0m     \u001b[0;32mdef\u001b[0m \u001b[0mwrapped\u001b[0m\u001b[0;34m(\u001b[0m\u001b[0;34m*\u001b[0m\u001b[0margs\u001b[0m\u001b[0;34m,\u001b[0m \u001b[0;34m**\u001b[0m\u001b[0mkwargs\u001b[0m\u001b[0;34m)\u001b[0m\u001b[0;34m:\u001b[0m\u001b[0;34m\u001b[0m\u001b[0;34m\u001b[0m\u001b[0m\n\u001b[1;32m    304\u001b[0m         \u001b[0;32mwith\u001b[0m \u001b[0mhierarchical_timer\u001b[0m\u001b[0;34m(\u001b[0m\u001b[0mfunc\u001b[0m\u001b[0;34m.\u001b[0m\u001b[0m__qualname__\u001b[0m\u001b[0;34m)\u001b[0m\u001b[0;34m:\u001b[0m\u001b[0;34m\u001b[0m\u001b[0;34m\u001b[0m\u001b[0m\n\u001b[0;32m--> 305\u001b[0;31m             \u001b[0;32mreturn\u001b[0m \u001b[0mfunc\u001b[0m\u001b[0;34m(\u001b[0m\u001b[0;34m*\u001b[0m\u001b[0margs\u001b[0m\u001b[0;34m,\u001b[0m \u001b[0;34m**\u001b[0m\u001b[0mkwargs\u001b[0m\u001b[0;34m)\u001b[0m\u001b[0;34m\u001b[0m\u001b[0;34m\u001b[0m\u001b[0m\n\u001b[0m\u001b[1;32m    306\u001b[0m \u001b[0;34m\u001b[0m\u001b[0m\n\u001b[1;32m    307\u001b[0m     \u001b[0;32mreturn\u001b[0m \u001b[0mwrapped\u001b[0m  \u001b[0;31m# type: ignore\u001b[0m\u001b[0;34m\u001b[0m\u001b[0;34m\u001b[0m\u001b[0m\n",
      "\u001b[0;32m~/opt/miniconda3/envs/mlAgents/lib/python3.7/site-packages/mlagents_envs/environment.py\u001b[0m in \u001b[0;36mstep\u001b[0;34m(self)\u001b[0m\n\u001b[1;32m    312\u001b[0m         \u001b[0mstep_input\u001b[0m \u001b[0;34m=\u001b[0m \u001b[0mself\u001b[0m\u001b[0;34m.\u001b[0m\u001b[0m_generate_step_input\u001b[0m\u001b[0;34m(\u001b[0m\u001b[0mself\u001b[0m\u001b[0;34m.\u001b[0m\u001b[0m_env_actions\u001b[0m\u001b[0;34m)\u001b[0m\u001b[0;34m\u001b[0m\u001b[0;34m\u001b[0m\u001b[0m\n\u001b[1;32m    313\u001b[0m         \u001b[0;32mwith\u001b[0m \u001b[0mhierarchical_timer\u001b[0m\u001b[0;34m(\u001b[0m\u001b[0;34m\"communicator.exchange\"\u001b[0m\u001b[0;34m)\u001b[0m\u001b[0;34m:\u001b[0m\u001b[0;34m\u001b[0m\u001b[0;34m\u001b[0m\u001b[0m\n\u001b[0;32m--> 314\u001b[0;31m             \u001b[0moutputs\u001b[0m \u001b[0;34m=\u001b[0m \u001b[0mself\u001b[0m\u001b[0;34m.\u001b[0m\u001b[0m_communicator\u001b[0m\u001b[0;34m.\u001b[0m\u001b[0mexchange\u001b[0m\u001b[0;34m(\u001b[0m\u001b[0mstep_input\u001b[0m\u001b[0;34m)\u001b[0m\u001b[0;34m\u001b[0m\u001b[0;34m\u001b[0m\u001b[0m\n\u001b[0m\u001b[1;32m    315\u001b[0m         \u001b[0;32mif\u001b[0m \u001b[0moutputs\u001b[0m \u001b[0;32mis\u001b[0m \u001b[0;32mNone\u001b[0m\u001b[0;34m:\u001b[0m\u001b[0;34m\u001b[0m\u001b[0;34m\u001b[0m\u001b[0m\n\u001b[1;32m    316\u001b[0m             \u001b[0;32mraise\u001b[0m \u001b[0mUnityCommunicatorStoppedException\u001b[0m\u001b[0;34m(\u001b[0m\u001b[0;34m\"Communicator has exited.\"\u001b[0m\u001b[0;34m)\u001b[0m\u001b[0;34m\u001b[0m\u001b[0;34m\u001b[0m\u001b[0m\n",
      "\u001b[0;32m~/opt/miniconda3/envs/mlAgents/lib/python3.7/site-packages/mlagents_envs/rpc_communicator.py\u001b[0m in \u001b[0;36mexchange\u001b[0;34m(self, inputs)\u001b[0m\n\u001b[1;32m    116\u001b[0m         \u001b[0mmessage\u001b[0m\u001b[0;34m.\u001b[0m\u001b[0munity_input\u001b[0m\u001b[0;34m.\u001b[0m\u001b[0mCopyFrom\u001b[0m\u001b[0;34m(\u001b[0m\u001b[0minputs\u001b[0m\u001b[0;34m)\u001b[0m\u001b[0;34m\u001b[0m\u001b[0;34m\u001b[0m\u001b[0m\n\u001b[1;32m    117\u001b[0m         \u001b[0mself\u001b[0m\u001b[0;34m.\u001b[0m\u001b[0munity_to_external\u001b[0m\u001b[0;34m.\u001b[0m\u001b[0mparent_conn\u001b[0m\u001b[0;34m.\u001b[0m\u001b[0msend\u001b[0m\u001b[0;34m(\u001b[0m\u001b[0mmessage\u001b[0m\u001b[0;34m)\u001b[0m\u001b[0;34m\u001b[0m\u001b[0;34m\u001b[0m\u001b[0m\n\u001b[0;32m--> 118\u001b[0;31m         \u001b[0mself\u001b[0m\u001b[0;34m.\u001b[0m\u001b[0mpoll_for_timeout\u001b[0m\u001b[0;34m(\u001b[0m\u001b[0;34m)\u001b[0m\u001b[0;34m\u001b[0m\u001b[0;34m\u001b[0m\u001b[0m\n\u001b[0m\u001b[1;32m    119\u001b[0m         \u001b[0moutput\u001b[0m \u001b[0;34m=\u001b[0m \u001b[0mself\u001b[0m\u001b[0;34m.\u001b[0m\u001b[0munity_to_external\u001b[0m\u001b[0;34m.\u001b[0m\u001b[0mparent_conn\u001b[0m\u001b[0;34m.\u001b[0m\u001b[0mrecv\u001b[0m\u001b[0;34m(\u001b[0m\u001b[0;34m)\u001b[0m\u001b[0;34m\u001b[0m\u001b[0;34m\u001b[0m\u001b[0m\n\u001b[1;32m    120\u001b[0m         \u001b[0;32mif\u001b[0m \u001b[0moutput\u001b[0m\u001b[0;34m.\u001b[0m\u001b[0mheader\u001b[0m\u001b[0;34m.\u001b[0m\u001b[0mstatus\u001b[0m \u001b[0;34m!=\u001b[0m \u001b[0;36m200\u001b[0m\u001b[0;34m:\u001b[0m\u001b[0;34m\u001b[0m\u001b[0;34m\u001b[0m\u001b[0m\n",
      "\u001b[0;32m~/opt/miniconda3/envs/mlAgents/lib/python3.7/site-packages/mlagents_envs/rpc_communicator.py\u001b[0m in \u001b[0;36mpoll_for_timeout\u001b[0;34m(self)\u001b[0m\n\u001b[1;32m     93\u001b[0m         \u001b[0mlaunched\u001b[0m\u001b[0;34m.\u001b[0m\u001b[0;34m\u001b[0m\u001b[0;34m\u001b[0m\u001b[0m\n\u001b[1;32m     94\u001b[0m         \"\"\"\n\u001b[0;32m---> 95\u001b[0;31m         \u001b[0;32mif\u001b[0m \u001b[0;32mnot\u001b[0m \u001b[0mself\u001b[0m\u001b[0;34m.\u001b[0m\u001b[0munity_to_external\u001b[0m\u001b[0;34m.\u001b[0m\u001b[0mparent_conn\u001b[0m\u001b[0;34m.\u001b[0m\u001b[0mpoll\u001b[0m\u001b[0;34m(\u001b[0m\u001b[0mself\u001b[0m\u001b[0;34m.\u001b[0m\u001b[0mtimeout_wait\u001b[0m\u001b[0;34m)\u001b[0m\u001b[0;34m:\u001b[0m\u001b[0;34m\u001b[0m\u001b[0;34m\u001b[0m\u001b[0m\n\u001b[0m\u001b[1;32m     96\u001b[0m             raise UnityTimeOutException(\n\u001b[1;32m     97\u001b[0m                 \u001b[0;34m\"The Unity environment took too long to respond. Make sure that :\\n\"\u001b[0m\u001b[0;34m\u001b[0m\u001b[0;34m\u001b[0m\u001b[0m\n",
      "\u001b[0;32m~/opt/miniconda3/envs/mlAgents/lib/python3.7/multiprocessing/connection.py\u001b[0m in \u001b[0;36mpoll\u001b[0;34m(self, timeout)\u001b[0m\n\u001b[1;32m    255\u001b[0m         \u001b[0mself\u001b[0m\u001b[0;34m.\u001b[0m\u001b[0m_check_closed\u001b[0m\u001b[0;34m(\u001b[0m\u001b[0;34m)\u001b[0m\u001b[0;34m\u001b[0m\u001b[0;34m\u001b[0m\u001b[0m\n\u001b[1;32m    256\u001b[0m         \u001b[0mself\u001b[0m\u001b[0;34m.\u001b[0m\u001b[0m_check_readable\u001b[0m\u001b[0;34m(\u001b[0m\u001b[0;34m)\u001b[0m\u001b[0;34m\u001b[0m\u001b[0;34m\u001b[0m\u001b[0m\n\u001b[0;32m--> 257\u001b[0;31m         \u001b[0;32mreturn\u001b[0m \u001b[0mself\u001b[0m\u001b[0;34m.\u001b[0m\u001b[0m_poll\u001b[0m\u001b[0;34m(\u001b[0m\u001b[0mtimeout\u001b[0m\u001b[0;34m)\u001b[0m\u001b[0;34m\u001b[0m\u001b[0;34m\u001b[0m\u001b[0m\n\u001b[0m\u001b[1;32m    258\u001b[0m \u001b[0;34m\u001b[0m\u001b[0m\n\u001b[1;32m    259\u001b[0m     \u001b[0;32mdef\u001b[0m \u001b[0m__enter__\u001b[0m\u001b[0;34m(\u001b[0m\u001b[0mself\u001b[0m\u001b[0;34m)\u001b[0m\u001b[0;34m:\u001b[0m\u001b[0;34m\u001b[0m\u001b[0;34m\u001b[0m\u001b[0m\n",
      "\u001b[0;32m~/opt/miniconda3/envs/mlAgents/lib/python3.7/multiprocessing/connection.py\u001b[0m in \u001b[0;36m_poll\u001b[0;34m(self, timeout)\u001b[0m\n\u001b[1;32m    412\u001b[0m \u001b[0;34m\u001b[0m\u001b[0m\n\u001b[1;32m    413\u001b[0m     \u001b[0;32mdef\u001b[0m \u001b[0m_poll\u001b[0m\u001b[0;34m(\u001b[0m\u001b[0mself\u001b[0m\u001b[0;34m,\u001b[0m \u001b[0mtimeout\u001b[0m\u001b[0;34m)\u001b[0m\u001b[0;34m:\u001b[0m\u001b[0;34m\u001b[0m\u001b[0;34m\u001b[0m\u001b[0m\n\u001b[0;32m--> 414\u001b[0;31m         \u001b[0mr\u001b[0m \u001b[0;34m=\u001b[0m \u001b[0mwait\u001b[0m\u001b[0;34m(\u001b[0m\u001b[0;34m[\u001b[0m\u001b[0mself\u001b[0m\u001b[0;34m]\u001b[0m\u001b[0;34m,\u001b[0m \u001b[0mtimeout\u001b[0m\u001b[0;34m)\u001b[0m\u001b[0;34m\u001b[0m\u001b[0;34m\u001b[0m\u001b[0m\n\u001b[0m\u001b[1;32m    415\u001b[0m         \u001b[0;32mreturn\u001b[0m \u001b[0mbool\u001b[0m\u001b[0;34m(\u001b[0m\u001b[0mr\u001b[0m\u001b[0;34m)\u001b[0m\u001b[0;34m\u001b[0m\u001b[0;34m\u001b[0m\u001b[0m\n\u001b[1;32m    416\u001b[0m \u001b[0;34m\u001b[0m\u001b[0m\n",
      "\u001b[0;32m~/opt/miniconda3/envs/mlAgents/lib/python3.7/multiprocessing/connection.py\u001b[0m in \u001b[0;36mwait\u001b[0;34m(object_list, timeout)\u001b[0m\n\u001b[1;32m    911\u001b[0m         \u001b[0mReturns\u001b[0m \u001b[0mlist\u001b[0m \u001b[0mof\u001b[0m \u001b[0mthose\u001b[0m \u001b[0mobjects\u001b[0m \u001b[0;32min\u001b[0m \u001b[0mobject_list\u001b[0m \u001b[0mwhich\u001b[0m \u001b[0mare\u001b[0m \u001b[0mready\u001b[0m\u001b[0;34m/\u001b[0m\u001b[0mreadable\u001b[0m\u001b[0;34m.\u001b[0m\u001b[0;34m\u001b[0m\u001b[0;34m\u001b[0m\u001b[0m\n\u001b[1;32m    912\u001b[0m         '''\n\u001b[0;32m--> 913\u001b[0;31m         \u001b[0;32mwith\u001b[0m \u001b[0m_WaitSelector\u001b[0m\u001b[0;34m(\u001b[0m\u001b[0;34m)\u001b[0m \u001b[0;32mas\u001b[0m \u001b[0mselector\u001b[0m\u001b[0;34m:\u001b[0m\u001b[0;34m\u001b[0m\u001b[0;34m\u001b[0m\u001b[0m\n\u001b[0m\u001b[1;32m    914\u001b[0m             \u001b[0;32mfor\u001b[0m \u001b[0mobj\u001b[0m \u001b[0;32min\u001b[0m \u001b[0mobject_list\u001b[0m\u001b[0;34m:\u001b[0m\u001b[0;34m\u001b[0m\u001b[0;34m\u001b[0m\u001b[0m\n\u001b[1;32m    915\u001b[0m                 \u001b[0mselector\u001b[0m\u001b[0;34m.\u001b[0m\u001b[0mregister\u001b[0m\u001b[0;34m(\u001b[0m\u001b[0mobj\u001b[0m\u001b[0;34m,\u001b[0m \u001b[0mselectors\u001b[0m\u001b[0;34m.\u001b[0m\u001b[0mEVENT_READ\u001b[0m\u001b[0;34m)\u001b[0m\u001b[0;34m\u001b[0m\u001b[0;34m\u001b[0m\u001b[0m\n",
      "\u001b[0;32m~/opt/miniconda3/envs/mlAgents/lib/python3.7/selectors.py\u001b[0m in \u001b[0;36m__init__\u001b[0;34m(self)\u001b[0m\n\u001b[1;32m    346\u001b[0m \u001b[0;34m\u001b[0m\u001b[0m\n\u001b[1;32m    347\u001b[0m     \u001b[0;32mdef\u001b[0m \u001b[0m__init__\u001b[0m\u001b[0;34m(\u001b[0m\u001b[0mself\u001b[0m\u001b[0;34m)\u001b[0m\u001b[0;34m:\u001b[0m\u001b[0;34m\u001b[0m\u001b[0;34m\u001b[0m\u001b[0m\n\u001b[0;32m--> 348\u001b[0;31m         \u001b[0msuper\u001b[0m\u001b[0;34m(\u001b[0m\u001b[0;34m)\u001b[0m\u001b[0;34m.\u001b[0m\u001b[0m__init__\u001b[0m\u001b[0;34m(\u001b[0m\u001b[0;34m)\u001b[0m\u001b[0;34m\u001b[0m\u001b[0;34m\u001b[0m\u001b[0m\n\u001b[0m\u001b[1;32m    349\u001b[0m         \u001b[0mself\u001b[0m\u001b[0;34m.\u001b[0m\u001b[0m_selector\u001b[0m \u001b[0;34m=\u001b[0m \u001b[0mself\u001b[0m\u001b[0;34m.\u001b[0m\u001b[0m_selector_cls\u001b[0m\u001b[0;34m(\u001b[0m\u001b[0;34m)\u001b[0m\u001b[0;34m\u001b[0m\u001b[0;34m\u001b[0m\u001b[0m\n\u001b[1;32m    350\u001b[0m \u001b[0;34m\u001b[0m\u001b[0m\n",
      "\u001b[0;31mKeyboardInterrupt\u001b[0m: "
     ]
    }
   ],
   "source": [
    "# -----------------\n",
    "# This code is used to close an env that might not have been closed before\n",
    "try:\n",
    "  env.close()\n",
    "except:\n",
    "  pass\n",
    "# -----------------\n",
    "\n",
    "from mlagents_envs.registry import default_registry\n",
    "from mlagents_envs.environment import UnityEnvironment\n",
    "import matplotlib.pyplot as plt\n",
    "%matplotlib inline\n",
    "\n",
    "env=UnityEnvironment(file_name=\"UnityBuilds/soccerWorld_Adv\", seed=1, timeout_wait=1000)\n",
    "print(\"soccerWorld is up.\")\n",
    "\n",
    "# Create a new Q-Network. \n",
    "qnet = VisualQNetwork((100, 100, 3), 126, 2)\n",
    "\n",
    "experiences: Buffer = []\n",
    "optim = torch.optim.Adam(qnet.parameters(), lr= 0.001)\n",
    "\n",
    "cumulative_rewards: List[float] = []\n",
    "\n",
    "# The number of training steps that will be performed\n",
    "NUM_TRAINING_STEPS = 70\n",
    "# The number of experiences to collect per training step\n",
    "NUM_NEW_EXP = 1000\n",
    "# The maximum size of the Buffer\n",
    "BUFFER_SIZE = 10000\n",
    "ExecutedStepsToPlot=[]\n",
    "for n in range(NUM_TRAINING_STEPS):\n",
    "    try:\n",
    "      new_exp,_ = Trainer.generate_trajectories(env, qnet, NUM_NEW_EXP, epsilon=0.1)\n",
    "      random.shuffle(experiences)\n",
    "      if len(experiences) > BUFFER_SIZE:\n",
    "        experiences = experiences[:BUFFER_SIZE]\n",
    "      experiences.extend(new_exp)\n",
    "      Trainer.update_q_net(qnet, optim, experiences, 5)\n",
    "      _, rewards = Trainer.generate_trajectories(env, qnet, 100, epsilon=0)\n",
    "      cumulative_rewards.append(rewards)\n",
    "      print(\"Training step \", n+1, \"\\treward \", rewards)\n",
    "      ExecutedStepsToPlot.append(n+1)\n",
    "    except Exception:\n",
    "        continue\n",
    "\n",
    "\n",
    "env.close()\n",
    "\n",
    "# Show the training graph\n",
    "plt.plot(range(len(ExecutedStepsToPlot)), cumulative_rewards)\n",
    "\n"
   ]
  },
  {
   "cell_type": "code",
   "execution_count": 8,
   "metadata": {},
   "outputs": [
    {
     "name": "stdout",
     "output_type": "stream",
     "text": [
      "loss is  tensor(0.0116, grad_fn=<MseLossBackward>)\n",
      "loss is  tensor(0.0026, grad_fn=<MseLossBackward>)\n",
      "loss is  tensor(0.0116, grad_fn=<MseLossBackward>)\n",
      "loss is  tensor(0.0025, grad_fn=<MseLossBackward>)\n",
      "loss is  tensor(0.0115, grad_fn=<MseLossBackward>)\n",
      "loss is  tensor(0.0025, grad_fn=<MseLossBackward>)\n",
      "Training step  1 \treward  -0.5\n",
      "loss is  tensor(0.0031, grad_fn=<MseLossBackward>)\n",
      "loss is  tensor(0.0134, grad_fn=<MseLossBackward>)\n",
      "loss is  tensor(0.0039, grad_fn=<MseLossBackward>)\n",
      "loss is  tensor(0.0031, grad_fn=<MseLossBackward>)\n",
      "loss is  tensor(0.0134, grad_fn=<MseLossBackward>)\n",
      "loss is  tensor(0.0039, grad_fn=<MseLossBackward>)\n",
      "loss is  tensor(0.0031, grad_fn=<MseLossBackward>)\n",
      "loss is  tensor(0.0134, grad_fn=<MseLossBackward>)\n",
      "loss is  tensor(0.0039, grad_fn=<MseLossBackward>)\n",
      "Training step  2 \treward  0.0\n",
      "loss is  tensor(0.0027, grad_fn=<MseLossBackward>)\n",
      "loss is  tensor(0.0224, grad_fn=<MseLossBackward>)\n",
      "loss is  tensor(0.0051, grad_fn=<MseLossBackward>)\n",
      "loss is  tensor(0.0025, grad_fn=<MseLossBackward>)\n",
      "loss is  tensor(0.0027, grad_fn=<MseLossBackward>)\n",
      "loss is  tensor(0.0224, grad_fn=<MseLossBackward>)\n",
      "loss is  tensor(0.0051, grad_fn=<MseLossBackward>)\n",
      "loss is  tensor(0.0025, grad_fn=<MseLossBackward>)\n",
      "loss is  tensor(0.0027, grad_fn=<MseLossBackward>)\n",
      "loss is  tensor(0.0224, grad_fn=<MseLossBackward>)\n",
      "loss is  tensor(0.0051, grad_fn=<MseLossBackward>)\n",
      "loss is  tensor(0.0025, grad_fn=<MseLossBackward>)\n",
      "Training step  3 \treward  0.8333333333333334\n"
     ]
    },
    {
     "ename": "KeyboardInterrupt",
     "evalue": "",
     "output_type": "error",
     "traceback": [
      "\u001b[0;31m---------------------------------------------------------------------------\u001b[0m",
      "\u001b[0;31mKeyboardInterrupt\u001b[0m                         Traceback (most recent call last)",
      "\u001b[0;32m<ipython-input-8-4976c4df1af8>\u001b[0m in \u001b[0;36m<module>\u001b[0;34m\u001b[0m\n\u001b[1;32m      8\u001b[0m \u001b[0;32mfor\u001b[0m \u001b[0mn\u001b[0m \u001b[0;32min\u001b[0m \u001b[0mrange\u001b[0m\u001b[0;34m(\u001b[0m\u001b[0mNUM_TRAINING_STEPS\u001b[0m\u001b[0;34m)\u001b[0m\u001b[0;34m:\u001b[0m\u001b[0;34m\u001b[0m\u001b[0;34m\u001b[0m\u001b[0m\n\u001b[1;32m      9\u001b[0m     \u001b[0;32mtry\u001b[0m\u001b[0;34m:\u001b[0m\u001b[0;34m\u001b[0m\u001b[0;34m\u001b[0m\u001b[0m\n\u001b[0;32m---> 10\u001b[0;31m       \u001b[0mnew_exp\u001b[0m\u001b[0;34m,\u001b[0m\u001b[0m_\u001b[0m \u001b[0;34m=\u001b[0m \u001b[0mTrainer\u001b[0m\u001b[0;34m.\u001b[0m\u001b[0mgenerate_trajectories\u001b[0m\u001b[0;34m(\u001b[0m\u001b[0menv\u001b[0m\u001b[0;34m,\u001b[0m \u001b[0mqnet\u001b[0m\u001b[0;34m,\u001b[0m \u001b[0mNUM_NEW_EXP\u001b[0m\u001b[0;34m,\u001b[0m \u001b[0mepsilon\u001b[0m\u001b[0;34m=\u001b[0m\u001b[0;36m0.1\u001b[0m\u001b[0;34m)\u001b[0m\u001b[0;34m\u001b[0m\u001b[0;34m\u001b[0m\u001b[0m\n\u001b[0m\u001b[1;32m     11\u001b[0m       \u001b[0mrandom\u001b[0m\u001b[0;34m.\u001b[0m\u001b[0mshuffle\u001b[0m\u001b[0;34m(\u001b[0m\u001b[0mexperiences\u001b[0m\u001b[0;34m)\u001b[0m\u001b[0;34m\u001b[0m\u001b[0;34m\u001b[0m\u001b[0m\n\u001b[1;32m     12\u001b[0m       \u001b[0;32mif\u001b[0m \u001b[0mlen\u001b[0m\u001b[0;34m(\u001b[0m\u001b[0mexperiences\u001b[0m\u001b[0;34m)\u001b[0m \u001b[0;34m>\u001b[0m \u001b[0mBUFFER_SIZE\u001b[0m\u001b[0;34m:\u001b[0m\u001b[0;34m\u001b[0m\u001b[0;34m\u001b[0m\u001b[0m\n",
      "\u001b[0;32m<ipython-input-6-93d21240ed5d>\u001b[0m in \u001b[0;36mgenerate_trajectories\u001b[0;34m(env, q_net, buffer_size, epsilon)\u001b[0m\n\u001b[1;32m    145\u001b[0m \u001b[0;34m\u001b[0m\u001b[0m\n\u001b[1;32m    146\u001b[0m       \u001b[0;31m# Perform a step in the simulation\u001b[0m\u001b[0;34m\u001b[0m\u001b[0;34m\u001b[0m\u001b[0;34m\u001b[0m\u001b[0m\n\u001b[0;32m--> 147\u001b[0;31m       \u001b[0menv\u001b[0m\u001b[0;34m.\u001b[0m\u001b[0mstep\u001b[0m\u001b[0;34m(\u001b[0m\u001b[0;34m)\u001b[0m\u001b[0;34m\u001b[0m\u001b[0;34m\u001b[0m\u001b[0m\n\u001b[0m\u001b[1;32m    148\u001b[0m \u001b[0;34m\u001b[0m\u001b[0m\n\u001b[1;32m    149\u001b[0m     \u001b[0;32mreturn\u001b[0m \u001b[0mbuffer\u001b[0m\u001b[0;34m,\u001b[0m \u001b[0mnp\u001b[0m\u001b[0;34m.\u001b[0m\u001b[0mmean\u001b[0m\u001b[0;34m(\u001b[0m\u001b[0mcumulative_rewards\u001b[0m\u001b[0;34m)\u001b[0m \u001b[0;31m#returns the experience buffer and collected rewards\u001b[0m\u001b[0;34m\u001b[0m\u001b[0;34m\u001b[0m\u001b[0m\n",
      "\u001b[0;32m~/opt/miniconda3/envs/mlAgents/lib/python3.7/site-packages/mlagents_envs/timers.py\u001b[0m in \u001b[0;36mwrapped\u001b[0;34m(*args, **kwargs)\u001b[0m\n\u001b[1;32m    303\u001b[0m     \u001b[0;32mdef\u001b[0m \u001b[0mwrapped\u001b[0m\u001b[0;34m(\u001b[0m\u001b[0;34m*\u001b[0m\u001b[0margs\u001b[0m\u001b[0;34m,\u001b[0m \u001b[0;34m**\u001b[0m\u001b[0mkwargs\u001b[0m\u001b[0;34m)\u001b[0m\u001b[0;34m:\u001b[0m\u001b[0;34m\u001b[0m\u001b[0;34m\u001b[0m\u001b[0m\n\u001b[1;32m    304\u001b[0m         \u001b[0;32mwith\u001b[0m \u001b[0mhierarchical_timer\u001b[0m\u001b[0;34m(\u001b[0m\u001b[0mfunc\u001b[0m\u001b[0;34m.\u001b[0m\u001b[0m__qualname__\u001b[0m\u001b[0;34m)\u001b[0m\u001b[0;34m:\u001b[0m\u001b[0;34m\u001b[0m\u001b[0;34m\u001b[0m\u001b[0m\n\u001b[0;32m--> 305\u001b[0;31m             \u001b[0;32mreturn\u001b[0m \u001b[0mfunc\u001b[0m\u001b[0;34m(\u001b[0m\u001b[0;34m*\u001b[0m\u001b[0margs\u001b[0m\u001b[0;34m,\u001b[0m \u001b[0;34m**\u001b[0m\u001b[0mkwargs\u001b[0m\u001b[0;34m)\u001b[0m\u001b[0;34m\u001b[0m\u001b[0;34m\u001b[0m\u001b[0m\n\u001b[0m\u001b[1;32m    306\u001b[0m \u001b[0;34m\u001b[0m\u001b[0m\n\u001b[1;32m    307\u001b[0m     \u001b[0;32mreturn\u001b[0m \u001b[0mwrapped\u001b[0m  \u001b[0;31m# type: ignore\u001b[0m\u001b[0;34m\u001b[0m\u001b[0;34m\u001b[0m\u001b[0m\n",
      "\u001b[0;32m~/opt/miniconda3/envs/mlAgents/lib/python3.7/site-packages/mlagents_envs/environment.py\u001b[0m in \u001b[0;36mstep\u001b[0;34m(self)\u001b[0m\n\u001b[1;32m    312\u001b[0m         \u001b[0mstep_input\u001b[0m \u001b[0;34m=\u001b[0m \u001b[0mself\u001b[0m\u001b[0;34m.\u001b[0m\u001b[0m_generate_step_input\u001b[0m\u001b[0;34m(\u001b[0m\u001b[0mself\u001b[0m\u001b[0;34m.\u001b[0m\u001b[0m_env_actions\u001b[0m\u001b[0;34m)\u001b[0m\u001b[0;34m\u001b[0m\u001b[0;34m\u001b[0m\u001b[0m\n\u001b[1;32m    313\u001b[0m         \u001b[0;32mwith\u001b[0m \u001b[0mhierarchical_timer\u001b[0m\u001b[0;34m(\u001b[0m\u001b[0;34m\"communicator.exchange\"\u001b[0m\u001b[0;34m)\u001b[0m\u001b[0;34m:\u001b[0m\u001b[0;34m\u001b[0m\u001b[0;34m\u001b[0m\u001b[0m\n\u001b[0;32m--> 314\u001b[0;31m             \u001b[0moutputs\u001b[0m \u001b[0;34m=\u001b[0m \u001b[0mself\u001b[0m\u001b[0;34m.\u001b[0m\u001b[0m_communicator\u001b[0m\u001b[0;34m.\u001b[0m\u001b[0mexchange\u001b[0m\u001b[0;34m(\u001b[0m\u001b[0mstep_input\u001b[0m\u001b[0;34m)\u001b[0m\u001b[0;34m\u001b[0m\u001b[0;34m\u001b[0m\u001b[0m\n\u001b[0m\u001b[1;32m    315\u001b[0m         \u001b[0;32mif\u001b[0m \u001b[0moutputs\u001b[0m \u001b[0;32mis\u001b[0m \u001b[0;32mNone\u001b[0m\u001b[0;34m:\u001b[0m\u001b[0;34m\u001b[0m\u001b[0;34m\u001b[0m\u001b[0m\n\u001b[1;32m    316\u001b[0m             \u001b[0;32mraise\u001b[0m \u001b[0mUnityCommunicatorStoppedException\u001b[0m\u001b[0;34m(\u001b[0m\u001b[0;34m\"Communicator has exited.\"\u001b[0m\u001b[0;34m)\u001b[0m\u001b[0;34m\u001b[0m\u001b[0;34m\u001b[0m\u001b[0m\n",
      "\u001b[0;32m~/opt/miniconda3/envs/mlAgents/lib/python3.7/site-packages/mlagents_envs/rpc_communicator.py\u001b[0m in \u001b[0;36mexchange\u001b[0;34m(self, inputs)\u001b[0m\n\u001b[1;32m    116\u001b[0m         \u001b[0mmessage\u001b[0m\u001b[0;34m.\u001b[0m\u001b[0munity_input\u001b[0m\u001b[0;34m.\u001b[0m\u001b[0mCopyFrom\u001b[0m\u001b[0;34m(\u001b[0m\u001b[0minputs\u001b[0m\u001b[0;34m)\u001b[0m\u001b[0;34m\u001b[0m\u001b[0;34m\u001b[0m\u001b[0m\n\u001b[1;32m    117\u001b[0m         \u001b[0mself\u001b[0m\u001b[0;34m.\u001b[0m\u001b[0munity_to_external\u001b[0m\u001b[0;34m.\u001b[0m\u001b[0mparent_conn\u001b[0m\u001b[0;34m.\u001b[0m\u001b[0msend\u001b[0m\u001b[0;34m(\u001b[0m\u001b[0mmessage\u001b[0m\u001b[0;34m)\u001b[0m\u001b[0;34m\u001b[0m\u001b[0;34m\u001b[0m\u001b[0m\n\u001b[0;32m--> 118\u001b[0;31m         \u001b[0mself\u001b[0m\u001b[0;34m.\u001b[0m\u001b[0mpoll_for_timeout\u001b[0m\u001b[0;34m(\u001b[0m\u001b[0;34m)\u001b[0m\u001b[0;34m\u001b[0m\u001b[0;34m\u001b[0m\u001b[0m\n\u001b[0m\u001b[1;32m    119\u001b[0m         \u001b[0moutput\u001b[0m \u001b[0;34m=\u001b[0m \u001b[0mself\u001b[0m\u001b[0;34m.\u001b[0m\u001b[0munity_to_external\u001b[0m\u001b[0;34m.\u001b[0m\u001b[0mparent_conn\u001b[0m\u001b[0;34m.\u001b[0m\u001b[0mrecv\u001b[0m\u001b[0;34m(\u001b[0m\u001b[0;34m)\u001b[0m\u001b[0;34m\u001b[0m\u001b[0;34m\u001b[0m\u001b[0m\n\u001b[1;32m    120\u001b[0m         \u001b[0;32mif\u001b[0m \u001b[0moutput\u001b[0m\u001b[0;34m.\u001b[0m\u001b[0mheader\u001b[0m\u001b[0;34m.\u001b[0m\u001b[0mstatus\u001b[0m \u001b[0;34m!=\u001b[0m \u001b[0;36m200\u001b[0m\u001b[0;34m:\u001b[0m\u001b[0;34m\u001b[0m\u001b[0;34m\u001b[0m\u001b[0m\n",
      "\u001b[0;32m~/opt/miniconda3/envs/mlAgents/lib/python3.7/site-packages/mlagents_envs/rpc_communicator.py\u001b[0m in \u001b[0;36mpoll_for_timeout\u001b[0;34m(self)\u001b[0m\n\u001b[1;32m     93\u001b[0m         \u001b[0mlaunched\u001b[0m\u001b[0;34m.\u001b[0m\u001b[0;34m\u001b[0m\u001b[0;34m\u001b[0m\u001b[0m\n\u001b[1;32m     94\u001b[0m         \"\"\"\n\u001b[0;32m---> 95\u001b[0;31m         \u001b[0;32mif\u001b[0m \u001b[0;32mnot\u001b[0m \u001b[0mself\u001b[0m\u001b[0;34m.\u001b[0m\u001b[0munity_to_external\u001b[0m\u001b[0;34m.\u001b[0m\u001b[0mparent_conn\u001b[0m\u001b[0;34m.\u001b[0m\u001b[0mpoll\u001b[0m\u001b[0;34m(\u001b[0m\u001b[0mself\u001b[0m\u001b[0;34m.\u001b[0m\u001b[0mtimeout_wait\u001b[0m\u001b[0;34m)\u001b[0m\u001b[0;34m:\u001b[0m\u001b[0;34m\u001b[0m\u001b[0;34m\u001b[0m\u001b[0m\n\u001b[0m\u001b[1;32m     96\u001b[0m             raise UnityTimeOutException(\n\u001b[1;32m     97\u001b[0m                 \u001b[0;34m\"The Unity environment took too long to respond. Make sure that :\\n\"\u001b[0m\u001b[0;34m\u001b[0m\u001b[0;34m\u001b[0m\u001b[0m\n",
      "\u001b[0;32m~/opt/miniconda3/envs/mlAgents/lib/python3.7/multiprocessing/connection.py\u001b[0m in \u001b[0;36mpoll\u001b[0;34m(self, timeout)\u001b[0m\n\u001b[1;32m    255\u001b[0m         \u001b[0mself\u001b[0m\u001b[0;34m.\u001b[0m\u001b[0m_check_closed\u001b[0m\u001b[0;34m(\u001b[0m\u001b[0;34m)\u001b[0m\u001b[0;34m\u001b[0m\u001b[0;34m\u001b[0m\u001b[0m\n\u001b[1;32m    256\u001b[0m         \u001b[0mself\u001b[0m\u001b[0;34m.\u001b[0m\u001b[0m_check_readable\u001b[0m\u001b[0;34m(\u001b[0m\u001b[0;34m)\u001b[0m\u001b[0;34m\u001b[0m\u001b[0;34m\u001b[0m\u001b[0m\n\u001b[0;32m--> 257\u001b[0;31m         \u001b[0;32mreturn\u001b[0m \u001b[0mself\u001b[0m\u001b[0;34m.\u001b[0m\u001b[0m_poll\u001b[0m\u001b[0;34m(\u001b[0m\u001b[0mtimeout\u001b[0m\u001b[0;34m)\u001b[0m\u001b[0;34m\u001b[0m\u001b[0;34m\u001b[0m\u001b[0m\n\u001b[0m\u001b[1;32m    258\u001b[0m \u001b[0;34m\u001b[0m\u001b[0m\n\u001b[1;32m    259\u001b[0m     \u001b[0;32mdef\u001b[0m \u001b[0m__enter__\u001b[0m\u001b[0;34m(\u001b[0m\u001b[0mself\u001b[0m\u001b[0;34m)\u001b[0m\u001b[0;34m:\u001b[0m\u001b[0;34m\u001b[0m\u001b[0;34m\u001b[0m\u001b[0m\n",
      "\u001b[0;32m~/opt/miniconda3/envs/mlAgents/lib/python3.7/multiprocessing/connection.py\u001b[0m in \u001b[0;36m_poll\u001b[0;34m(self, timeout)\u001b[0m\n\u001b[1;32m    412\u001b[0m \u001b[0;34m\u001b[0m\u001b[0m\n\u001b[1;32m    413\u001b[0m     \u001b[0;32mdef\u001b[0m \u001b[0m_poll\u001b[0m\u001b[0;34m(\u001b[0m\u001b[0mself\u001b[0m\u001b[0;34m,\u001b[0m \u001b[0mtimeout\u001b[0m\u001b[0;34m)\u001b[0m\u001b[0;34m:\u001b[0m\u001b[0;34m\u001b[0m\u001b[0;34m\u001b[0m\u001b[0m\n\u001b[0;32m--> 414\u001b[0;31m         \u001b[0mr\u001b[0m \u001b[0;34m=\u001b[0m \u001b[0mwait\u001b[0m\u001b[0;34m(\u001b[0m\u001b[0;34m[\u001b[0m\u001b[0mself\u001b[0m\u001b[0;34m]\u001b[0m\u001b[0;34m,\u001b[0m \u001b[0mtimeout\u001b[0m\u001b[0;34m)\u001b[0m\u001b[0;34m\u001b[0m\u001b[0;34m\u001b[0m\u001b[0m\n\u001b[0m\u001b[1;32m    415\u001b[0m         \u001b[0;32mreturn\u001b[0m \u001b[0mbool\u001b[0m\u001b[0;34m(\u001b[0m\u001b[0mr\u001b[0m\u001b[0;34m)\u001b[0m\u001b[0;34m\u001b[0m\u001b[0;34m\u001b[0m\u001b[0m\n\u001b[1;32m    416\u001b[0m \u001b[0;34m\u001b[0m\u001b[0m\n",
      "\u001b[0;32m~/opt/miniconda3/envs/mlAgents/lib/python3.7/multiprocessing/connection.py\u001b[0m in \u001b[0;36mwait\u001b[0;34m(object_list, timeout)\u001b[0m\n\u001b[1;32m    919\u001b[0m \u001b[0;34m\u001b[0m\u001b[0m\n\u001b[1;32m    920\u001b[0m             \u001b[0;32mwhile\u001b[0m \u001b[0;32mTrue\u001b[0m\u001b[0;34m:\u001b[0m\u001b[0;34m\u001b[0m\u001b[0;34m\u001b[0m\u001b[0m\n\u001b[0;32m--> 921\u001b[0;31m                 \u001b[0mready\u001b[0m \u001b[0;34m=\u001b[0m \u001b[0mselector\u001b[0m\u001b[0;34m.\u001b[0m\u001b[0mselect\u001b[0m\u001b[0;34m(\u001b[0m\u001b[0mtimeout\u001b[0m\u001b[0;34m)\u001b[0m\u001b[0;34m\u001b[0m\u001b[0;34m\u001b[0m\u001b[0m\n\u001b[0m\u001b[1;32m    922\u001b[0m                 \u001b[0;32mif\u001b[0m \u001b[0mready\u001b[0m\u001b[0;34m:\u001b[0m\u001b[0;34m\u001b[0m\u001b[0;34m\u001b[0m\u001b[0m\n\u001b[1;32m    923\u001b[0m                     \u001b[0;32mreturn\u001b[0m \u001b[0;34m[\u001b[0m\u001b[0mkey\u001b[0m\u001b[0;34m.\u001b[0m\u001b[0mfileobj\u001b[0m \u001b[0;32mfor\u001b[0m \u001b[0;34m(\u001b[0m\u001b[0mkey\u001b[0m\u001b[0;34m,\u001b[0m \u001b[0mevents\u001b[0m\u001b[0;34m)\u001b[0m \u001b[0;32min\u001b[0m \u001b[0mready\u001b[0m\u001b[0;34m]\u001b[0m\u001b[0;34m\u001b[0m\u001b[0;34m\u001b[0m\u001b[0m\n",
      "\u001b[0;32m~/opt/miniconda3/envs/mlAgents/lib/python3.7/selectors.py\u001b[0m in \u001b[0;36mselect\u001b[0;34m(self, timeout)\u001b[0m\n\u001b[1;32m    413\u001b[0m         \u001b[0mready\u001b[0m \u001b[0;34m=\u001b[0m \u001b[0;34m[\u001b[0m\u001b[0;34m]\u001b[0m\u001b[0;34m\u001b[0m\u001b[0;34m\u001b[0m\u001b[0m\n\u001b[1;32m    414\u001b[0m         \u001b[0;32mtry\u001b[0m\u001b[0;34m:\u001b[0m\u001b[0;34m\u001b[0m\u001b[0;34m\u001b[0m\u001b[0m\n\u001b[0;32m--> 415\u001b[0;31m             \u001b[0mfd_event_list\u001b[0m \u001b[0;34m=\u001b[0m \u001b[0mself\u001b[0m\u001b[0;34m.\u001b[0m\u001b[0m_selector\u001b[0m\u001b[0;34m.\u001b[0m\u001b[0mpoll\u001b[0m\u001b[0;34m(\u001b[0m\u001b[0mtimeout\u001b[0m\u001b[0;34m)\u001b[0m\u001b[0;34m\u001b[0m\u001b[0;34m\u001b[0m\u001b[0m\n\u001b[0m\u001b[1;32m    416\u001b[0m         \u001b[0;32mexcept\u001b[0m \u001b[0mInterruptedError\u001b[0m\u001b[0;34m:\u001b[0m\u001b[0;34m\u001b[0m\u001b[0;34m\u001b[0m\u001b[0m\n\u001b[1;32m    417\u001b[0m             \u001b[0;32mreturn\u001b[0m \u001b[0mready\u001b[0m\u001b[0;34m\u001b[0m\u001b[0;34m\u001b[0m\u001b[0m\n",
      "\u001b[0;31mKeyboardInterrupt\u001b[0m: "
     ]
    }
   ],
   "source": [
    "# The number of training steps that will be performed\n",
    "NUM_TRAINING_STEPS = 10\n",
    "# The number of experiences to collect per training step\n",
    "NUM_NEW_EXP = 1000\n",
    "# The maximum size of the Buffer\n",
    "BUFFER_SIZE = 10000\n",
    "\n",
    "for n in range(NUM_TRAINING_STEPS):\n",
    "    try:\n",
    "      new_exp,_ = Trainer.generate_trajectories(env, qnet, NUM_NEW_EXP, epsilon=0.1)\n",
    "      random.shuffle(experiences)\n",
    "      if len(experiences) > BUFFER_SIZE:\n",
    "        experiences = experiences[:BUFFER_SIZE]\n",
    "      experiences.extend(new_exp)\n",
    "      Trainer.update_q_net(qnet, optim, experiences, 5)\n",
    "      _, rewards = Trainer.generate_trajectories(env, qnet, 100, epsilon=0)\n",
    "      cumulative_rewards.append(rewards)\n",
    "      print(\"Training step \", n+1, \"\\treward \", rewards)\n",
    "    except Exception:\n",
    "        continue\n",
    "\n",
    "\n",
    "    # env.close()\n",
    "\n",
    "    # Show the training graph\n",
    "#     plt.plot(range(NUM_TRAINING_STEPS), cumulative_rewards)"
   ]
  },
  {
   "cell_type": "code",
   "execution_count": 17,
   "metadata": {},
   "outputs": [
    {
     "name": "stdout",
     "output_type": "stream",
     "text": [
      "[[ 0.0075075 -0.0004515]]\n",
      "(1, 2)\n",
      "[[-0.01485687 -0.18864733]]\n",
      "(1, 2)\n"
     ]
    }
   ],
   "source": [
    "actions_values = (\n",
    "        qnet(torch.from_numpy(decision_steps.obs[0])).detach().numpy()\n",
    "      )\n",
    "print(actions_values)\n",
    "print(actions_values.shape)\n",
    "# Add some noise with epsilon to the values\n",
    "actions_values += 0.1 * (\n",
    "np.random.randn(actions_values.shape[0], actions_values.shape[1])\n",
    ").astype(np.float32)\n",
    "# Pick the best action using argmax\n",
    "#       actions = np.argmax(actions_values, axis=1)\n",
    "actions_values.resize((len(decision_steps), 2))\n",
    "print(actions_values)\n",
    "print(actions_values.shape)"
   ]
  },
  {
   "cell_type": "code",
   "execution_count": 42,
   "metadata": {},
   "outputs": [
    {
     "ename": "NameError",
     "evalue": "name 'qnet' is not defined",
     "output_type": "error",
     "traceback": [
      "\u001b[0;31m---------------------------------------------------------------------------\u001b[0m",
      "\u001b[0;31mNameError\u001b[0m                                 Traceback (most recent call last)",
      "\u001b[0;32m<ipython-input-42-b3cf28890f29>\u001b[0m in \u001b[0;36m<module>\u001b[0;34m\u001b[0m\n\u001b[0;32m----> 1\u001b[0;31m \u001b[0mprint\u001b[0m\u001b[0;34m(\u001b[0m\u001b[0mqnet\u001b[0m\u001b[0;34m(\u001b[0m\u001b[0mtorch\u001b[0m\u001b[0;34m.\u001b[0m\u001b[0mfrom_numpy\u001b[0m\u001b[0;34m(\u001b[0m\u001b[0mdecision_steps\u001b[0m\u001b[0;34m.\u001b[0m\u001b[0mobs\u001b[0m\u001b[0;34m[\u001b[0m\u001b[0;36m0\u001b[0m\u001b[0;34m]\u001b[0m\u001b[0;34m)\u001b[0m\u001b[0;34m)\u001b[0m\u001b[0;34m)\u001b[0m\u001b[0;34m\u001b[0m\u001b[0;34m\u001b[0m\u001b[0m\n\u001b[0m",
      "\u001b[0;31mNameError\u001b[0m: name 'qnet' is not defined"
     ]
    }
   ],
   "source": [
    "print(qnet(torch.from_numpy(decision_steps.obs[0])))"
   ]
  },
  {
   "cell_type": "code",
   "execution_count": 43,
   "metadata": {},
   "outputs": [
    {
     "ename": "NameError",
     "evalue": "name 'qnet' is not defined",
     "output_type": "error",
     "traceback": [
      "\u001b[0;31m---------------------------------------------------------------------------\u001b[0m",
      "\u001b[0;31mNameError\u001b[0m                                 Traceback (most recent call last)",
      "\u001b[0;32m<ipython-input-43-8af7b9d6b682>\u001b[0m in \u001b[0;36m<module>\u001b[0;34m\u001b[0m\n\u001b[0;32m----> 1\u001b[0;31m \u001b[0mprint\u001b[0m\u001b[0;34m(\u001b[0m\u001b[0mqnet\u001b[0m\u001b[0;34m(\u001b[0m\u001b[0mtorch\u001b[0m\u001b[0;34m.\u001b[0m\u001b[0mfrom_numpy\u001b[0m\u001b[0;34m(\u001b[0m\u001b[0mdecision_steps\u001b[0m\u001b[0;34m.\u001b[0m\u001b[0mobs\u001b[0m\u001b[0;34m[\u001b[0m\u001b[0;36m0\u001b[0m\u001b[0;34m]\u001b[0m\u001b[0;34m)\u001b[0m\u001b[0;34m)\u001b[0m\u001b[0;34m.\u001b[0m\u001b[0mdetach\u001b[0m\u001b[0;34m(\u001b[0m\u001b[0;34m)\u001b[0m\u001b[0;34m.\u001b[0m\u001b[0mnumpy\u001b[0m\u001b[0;34m(\u001b[0m\u001b[0;34m)\u001b[0m\u001b[0;34m)\u001b[0m\u001b[0;34m\u001b[0m\u001b[0;34m\u001b[0m\u001b[0m\n\u001b[0m",
      "\u001b[0;31mNameError\u001b[0m: name 'qnet' is not defined"
     ]
    }
   ],
   "source": [
    "print(qnet(torch.from_numpy(decision_steps.obs[0])).detach().numpy())"
   ]
  },
  {
   "cell_type": "code",
   "execution_count": 43,
   "metadata": {},
   "outputs": [],
   "source": []
  },
  {
   "cell_type": "code",
   "execution_count": 44,
   "metadata": {
    "id": "2ihb_gmYLUsH"
   },
   "outputs": [],
   "source": [
    "env.close()"
   ]
  },
  {
   "cell_type": "code",
   "execution_count": null,
   "metadata": {},
   "outputs": [],
   "source": [
    "qnet.eval()"
   ]
  },
  {
   "cell_type": "markdown",
   "metadata": {},
   "source": [
    "## Regular code check"
   ]
  },
  {
   "cell_type": "code",
   "execution_count": 7,
   "metadata": {},
   "outputs": [],
   "source": [
    "from mlagents_envs.environment import UnityEnvironment"
   ]
  },
  {
   "cell_type": "code",
   "execution_count": 8,
   "metadata": {},
   "outputs": [],
   "source": [
    "env=UnityEnvironment(file_name=\"UnityBuilds/soccerWorld_Adv\", seed =1, side_channels=[])"
   ]
  },
  {
   "cell_type": "code",
   "execution_count": 9,
   "metadata": {},
   "outputs": [],
   "source": [
    "env.reset()"
   ]
  },
  {
   "cell_type": "code",
   "execution_count": 10,
   "metadata": {},
   "outputs": [
    {
     "name": "stdout",
     "output_type": "stream",
     "text": [
      "Name of the behavior : SoccerWorldAgent?team=0\n"
     ]
    }
   ],
   "source": [
    "#Picking the behavior Name\n",
    "behavior_name = list(env.behavior_specs)[0] \n",
    "print(f\"Name of the behavior : {behavior_name}\")\n",
    "spec = env.behavior_specs[behavior_name]"
   ]
  },
  {
   "cell_type": "code",
   "execution_count": 11,
   "metadata": {},
   "outputs": [
    {
     "name": "stdout",
     "output_type": "stream",
     "text": [
      "Number of observations :  1\n",
      "Is there a visual observation ? True\n"
     ]
    }
   ],
   "source": [
    "# Examine the number of observations per Agent\n",
    "print(\"Number of observations : \", len(spec.observation_shapes))\n",
    "\n",
    "# Is there a visual observation ?\n",
    "# Visual observation have 3 dimensions: Height, Width and number of channels\n",
    "vis_obs = any(len(shape) == 3 for shape in spec.observation_shapes)\n",
    "print(\"Is there a visual observation ?\", vis_obs)"
   ]
  },
  {
   "cell_type": "code",
   "execution_count": 12,
   "metadata": {},
   "outputs": [
    {
     "name": "stdout",
     "output_type": "stream",
     "text": [
      "The action is continuous\n",
      "There are 2 action(s)\n"
     ]
    }
   ],
   "source": [
    "# Is the Action continuous or multi-discrete ?\n",
    "if spec.is_action_continuous():\n",
    "  print(\"The action is continuous\")\n",
    "if spec.is_action_discrete():\n",
    "  print(\"The action is discrete\")\n",
    "\n",
    "# How many actions are possible ?\n",
    "print(f\"There are {spec.action_size} action(s)\")\n",
    "\n",
    "# For discrete actions only : How many different options does each action has ?\n",
    "if spec.is_action_discrete():\n",
    "  for action, branch_size in enumerate(spec.discrete_action_branches):\n",
    "    print(f\"Action number {action} has {branch_size} different options\")"
   ]
  },
  {
   "cell_type": "code",
   "execution_count": 13,
   "metadata": {},
   "outputs": [
    {
     "data": {
      "text/plain": [
       "[(100, 100, 3)]"
      ]
     },
     "execution_count": 13,
     "metadata": {},
     "output_type": "execute_result"
    }
   ],
   "source": [
    "spec.observation_shapes #first observation is the visual of the agent - 64 X 64 x 3 -> RGB image"
   ]
  },
  {
   "cell_type": "code",
   "execution_count": 14,
   "metadata": {},
   "outputs": [],
   "source": [
    "decision_steps, terminal_steps = env.get_steps(behavior_name)"
   ]
  },
  {
   "cell_type": "code",
   "execution_count": 15,
   "metadata": {},
   "outputs": [
    {
     "name": "stdout",
     "output_type": "stream",
     "text": [
      "0\n"
     ]
    }
   ],
   "source": [
    "for agentId in decision_steps:\n",
    "    print(agentId)"
   ]
  },
  {
   "cell_type": "code",
   "execution_count": 16,
   "metadata": {},
   "outputs": [],
   "source": [
    "for agentId in terminal_steps:\n",
    "    print(agentId)"
   ]
  },
  {
   "cell_type": "code",
   "execution_count": 17,
   "metadata": {},
   "outputs": [
    {
     "name": "stdout",
     "output_type": "stream",
     "text": [
      "index is:  0 \n",
      "\n",
      "shape is:  (100, 100, 3) \n",
      "\n",
      "Here is the first visual observation\n"
     ]
    },
    {
     "data": {
      "image/png": "[encoded data removed]",
      "text/plain": [
       "<Figure size 432x288 with 1 Axes>"
      ]
     },
     "metadata": {
      "needs_background": "light"
     },
     "output_type": "display_data"
    }
   ],
   "source": [
    "import matplotlib.pyplot as plt\n",
    "%matplotlib inline\n",
    "\n",
    "for index, shape in enumerate(spec.observation_shapes):\n",
    "    print(\"index is: \",index,\"\\n\")\n",
    "    print(\"shape is: \",shape,\"\\n\")\n",
    "    if len(shape) == 3:\n",
    "        print(\"Here is the first visual observation\")\n",
    "        plt.imshow(decision_steps.obs[index][0,:,:,:])\n",
    "        plt.imsave(\"soccerworld.png\",decision_steps.obs[index][0,:,:,:])\n",
    "        plt.show()\n",
    "\n",
    "for index, shape in enumerate(spec.observation_shapes):\n",
    "      if len(shape) == 1:\n",
    "        print(\"First vector observations : \", decision_steps.obs[index][0,:])"
   ]
  },
  {
   "cell_type": "code",
   "execution_count": 19,
   "metadata": {},
   "outputs": [
    {
     "name": "stdout",
     "output_type": "stream",
     "text": [
      "<class 'numpy.ndarray'> \n",
      "\n",
      "\n",
      "\n",
      "[[[[0.40784314 0.38039216 0.35686275]\n",
      "   [0.40784314 0.38039216 0.35686275]\n",
      "   [0.40784314 0.38039216 0.35686275]\n",
      "   ...\n",
      "   [0.40784314 0.38039216 0.35686275]\n",
      "   [0.40784314 0.38039216 0.35686275]\n",
      "   [0.40784314 0.38039216 0.35686275]]\n",
      "\n",
      "  [[0.40784314 0.38039216 0.35686275]\n",
      "   [0.40784314 0.38039216 0.35686275]\n",
      "   [0.40784314 0.38039216 0.35686275]\n",
      "   ...\n",
      "   [0.40784314 0.38039216 0.35686275]\n",
      "   [0.40784314 0.38039216 0.35686275]\n",
      "   [0.40784314 0.38039216 0.35686275]]\n",
      "\n",
      "  [[0.40784314 0.38039216 0.35686275]\n",
      "   [0.40784314 0.38039216 0.35686275]\n",
      "   [0.40784314 0.38039216 0.35686275]\n",
      "   ...\n",
      "   [0.40784314 0.38039216 0.35686275]\n",
      "   [0.40784314 0.38039216 0.35686275]\n",
      "   [0.40784314 0.38039216 0.35686275]]\n",
      "\n",
      "  ...\n",
      "\n",
      "  [[0.40784314 0.38039216 0.35686275]\n",
      "   [0.40784314 0.38039216 0.35686275]\n",
      "   [0.40784314 0.38039216 0.35686275]\n",
      "   ...\n",
      "   [0.40784314 0.38039216 0.35686275]\n",
      "   [0.40784314 0.38039216 0.35686275]\n",
      "   [0.40784314 0.38039216 0.35686275]]\n",
      "\n",
      "  [[0.40784314 0.38039216 0.35686275]\n",
      "   [0.40784314 0.38039216 0.35686275]\n",
      "   [0.40784314 0.38039216 0.35686275]\n",
      "   ...\n",
      "   [0.40784314 0.38039216 0.35686275]\n",
      "   [0.40784314 0.38039216 0.35686275]\n",
      "   [0.40784314 0.38039216 0.35686275]]\n",
      "\n",
      "  [[0.40784314 0.38039216 0.35686275]\n",
      "   [0.40784314 0.38039216 0.35686275]\n",
      "   [0.40784314 0.38039216 0.35686275]\n",
      "   ...\n",
      "   [0.40784314 0.38039216 0.35686275]\n",
      "   [0.40784314 0.38039216 0.35686275]\n",
      "   [0.40784314 0.38039216 0.35686275]]]]\n",
      "tensor([[[[0.4078, 0.3804, 0.3569],\n",
      "          [0.4078, 0.3804, 0.3569],\n",
      "          [0.4078, 0.3804, 0.3569],\n",
      "          ...,\n",
      "          [0.4078, 0.3804, 0.3569],\n",
      "          [0.4078, 0.3804, 0.3569],\n",
      "          [0.4078, 0.3804, 0.3569]],\n",
      "\n",
      "         [[0.4078, 0.3804, 0.3569],\n",
      "          [0.4078, 0.3804, 0.3569],\n",
      "          [0.4078, 0.3804, 0.3569],\n",
      "          ...,\n",
      "          [0.4078, 0.3804, 0.3569],\n",
      "          [0.4078, 0.3804, 0.3569],\n",
      "          [0.4078, 0.3804, 0.3569]],\n",
      "\n",
      "         [[0.4078, 0.3804, 0.3569],\n",
      "          [0.4078, 0.3804, 0.3569],\n",
      "          [0.4078, 0.3804, 0.3569],\n",
      "          ...,\n",
      "          [0.4078, 0.3804, 0.3569],\n",
      "          [0.4078, 0.3804, 0.3569],\n",
      "          [0.4078, 0.3804, 0.3569]],\n",
      "\n",
      "         ...,\n",
      "\n",
      "         [[0.4078, 0.3804, 0.3569],\n",
      "          [0.4078, 0.3804, 0.3569],\n",
      "          [0.4078, 0.3804, 0.3569],\n",
      "          ...,\n",
      "          [0.4078, 0.3804, 0.3569],\n",
      "          [0.4078, 0.3804, 0.3569],\n",
      "          [0.4078, 0.3804, 0.3569]],\n",
      "\n",
      "         [[0.4078, 0.3804, 0.3569],\n",
      "          [0.4078, 0.3804, 0.3569],\n",
      "          [0.4078, 0.3804, 0.3569],\n",
      "          ...,\n",
      "          [0.4078, 0.3804, 0.3569],\n",
      "          [0.4078, 0.3804, 0.3569],\n",
      "          [0.4078, 0.3804, 0.3569]],\n",
      "\n",
      "         [[0.4078, 0.3804, 0.3569],\n",
      "          [0.4078, 0.3804, 0.3569],\n",
      "          [0.4078, 0.3804, 0.3569],\n",
      "          ...,\n",
      "          [0.4078, 0.3804, 0.3569],\n",
      "          [0.4078, 0.3804, 0.3569],\n",
      "          [0.4078, 0.3804, 0.3569]]]]) \n",
      "\n",
      "\n",
      "\n",
      "torch.Size([1, 100, 100, 3])\n"
     ]
    }
   ],
   "source": [
    "print(type(decision_steps.obs[0]),\"\\n\\n\\n\")\n",
    "print(decision_steps.obs[0])\n",
    "\n",
    "import torch\n",
    "ObsTensor=torch.tensor(decision_steps.obs[0])\n",
    "print(ObsTensor,\"\\n\\n\\n\")\n",
    "print(ObsTensor.shape)"
   ]
  },
  {
   "cell_type": "code",
   "execution_count": 32,
   "metadata": {},
   "outputs": [
    {
     "name": "stdout",
     "output_type": "stream",
     "text": [
      "a is:  tensor([0., 1., 2., 3.]) \n",
      "\n",
      "\n",
      "\n",
      "a shape is  torch.Size([4]) \n",
      "\n",
      "\n",
      "\n",
      "b is:  tensor([[0., 1.],\n",
      "        [2., 3.]]) \n",
      "\n",
      "\n",
      "\n",
      "\n",
      "b shape is  torch.Size([2, 2]) \n",
      "\n",
      "\n",
      "\n",
      "torch.Size([2, 2])\n",
      "d is:  tensor([0, 1, 2, 3]) \n",
      "\n",
      "\n",
      "\n",
      "\n",
      "d shape is  torch.Size([4]) \n",
      "\n",
      "\n",
      "\n",
      "tensor([[0, 1, 2, 3]])\n"
     ]
    },
    {
     "data": {
      "text/plain": [
       "torch.Size([1, 4])"
      ]
     },
     "execution_count": 32,
     "metadata": {},
     "output_type": "execute_result"
    }
   ],
   "source": [
    "a = torch.arange(4.)\n",
    "print(\"a is: \",a,\"\\n\\n\\n\")\n",
    "print(\"a shape is \", a.shape,\"\\n\\n\\n\")\n",
    "\n",
    "b=torch.reshape(a, (2, 2))\n",
    "print(\"b is: \",b,\"\\n\\n\\n\\n\")\n",
    "print(\"b shape is \", b.shape,\"\\n\\n\\n\")\n",
    "\n",
    "\n",
    "c = torch.tensor([[0, 1], [2, 3]])\n",
    "print(c.shape)\n",
    "d=torch.reshape(c, (-1,))\n",
    "print(\"d is: \",d,\"\\n\\n\\n\\n\")\n",
    "print(\"d shape is \", d.shape,\"\\n\\n\\n\")\n",
    "\n",
    "e = torch.tensor([[0, 1], [2, 3]])\n",
    "print(e.reshape(-1,4))\n",
    "e.reshape(-1,4).shape"
   ]
  },
  {
   "cell_type": "code",
   "execution_count": 35,
   "metadata": {},
   "outputs": [
    {
     "name": "stdout",
     "output_type": "stream",
     "text": [
      "input is:  tensor([[-1.4874,  0.2152,  0.7147,  ..., -1.3536,  0.6347, -1.1290],\n",
      "        [ 0.3162,  0.0486,  0.4353,  ...,  1.0005, -0.9771, -0.2368],\n",
      "        [-0.1142, -0.9981,  0.1690,  ..., -0.9983, -0.8695,  0.6106],\n",
      "        ...,\n",
      "        [ 1.0717,  1.1052,  0.8028,  ...,  0.7956,  0.5646, -0.0835],\n",
      "        [-1.1733, -1.7265,  0.9487,  ..., -0.0591, -2.3865, -1.5086],\n",
      "        [-2.1969,  0.6667,  0.5122,  ...,  1.0265,  1.3482, -0.9558]]) \n",
      "\n",
      "\n",
      "\n",
      "input size:  torch.Size([128, 20]) \n",
      "\n",
      "\n",
      "\n",
      "torch.Size([128, 30])\n"
     ]
    }
   ],
   "source": [
    "m = torch.nn.Linear(20, 30)\n",
    "input = torch.randn(128, 20)\n",
    "print(\"input is: \",input,\"\\n\\n\\n\")\n",
    "print(\"input size: \",input.shape,\"\\n\\n\\n\")\n",
    "output = m(input)\n",
    "print(output.size())"
   ]
  },
  {
   "cell_type": "markdown",
   "metadata": {},
   "source": [
    "## Writing a sub routine for unity movement - for discrete env"
   ]
  },
  {
   "cell_type": "code",
   "execution_count": 34,
   "metadata": {},
   "outputs": [],
   "source": [
    "def subRoutine():\n",
    "    episodes=list(range(2))\n",
    "    Rewards=[]\n",
    "    for episode in episodes:\n",
    "        iterationRewards=[]\n",
    "        for iteration in range(10):\n",
    "            env.reset()\n",
    "            decision_steps, terminal_steps = env.get_steps(behavior_name)\n",
    "            tracked_agent = -1 # -1 indicates not yet tracking\n",
    "            done = False # For the tracked_agent\n",
    "            episode_rewards = 0 # For the tracked_agent\n",
    "            while not done:\n",
    "            # Track the first agent we see if not tracking \n",
    "            # Note : len(decision_steps) = [number of agents that requested a decision]\n",
    "                if tracked_agent == -1 and len(decision_steps) >= 1:\n",
    "                      tracked_agent = decision_steps.agent_id[0] \n",
    "\n",
    "                # Generate an action for all agents\n",
    "                actions_values = (\n",
    "                qnet(torch.from_numpy(decision_steps.obs[0])).detach().numpy()\n",
    "                  )\n",
    "              # Add some noise with epsilon to the values\n",
    "                actions_values += 0.1 * (\n",
    "                np.random.randn(actions_values.shape[0], actions_values.shape[1])\n",
    "                ).astype(np.float32)\n",
    "                # Pick the best action using argmax\n",
    "                actions = np.argmax(actions_values, axis=1)\n",
    "                actions.resize((len(decision_steps), 1))\n",
    "\n",
    "                # Set the actions\n",
    "                env.set_actions(behavior_name, actions)\n",
    "\n",
    "                # Move the simulation forward\n",
    "                env.step()\n",
    "\n",
    "                # Get the new simulation results\n",
    "                decision_steps, terminal_steps = env.get_steps(behavior_name)\n",
    "                if tracked_agent in decision_steps: # The agent requested a decision\n",
    "                      episode_rewards += decision_steps[tracked_agent].reward\n",
    "                if tracked_agent in terminal_steps: # The agent terminated its episode\n",
    "                      episode_rewards += terminal_steps[tracked_agent].reward\n",
    "                      done = True\n",
    "            iterationRewards.append(episode_rewards)\n",
    "    #     Rewards.append((np.sum(iterationRewards))/10)\n",
    "    #     print(iterationRewards)\n",
    "    #     print(sum(iterationRewards))\n",
    "        Rewards.append(sum(iterationRewards)/10)\n",
    "        print(f\"Total rewards for episode {episode} is {Rewards[episode]}\")\n",
    "    return episodes, Rewards"
   ]
  },
  {
   "cell_type": "markdown",
   "metadata": {},
   "source": [
    "## (before using trained model)"
   ]
  },
  {
   "cell_type": "code",
   "execution_count": 69,
   "metadata": {},
   "outputs": [],
   "source": [
    "qnet = VisualQNetwork((64, 84, 3), 126, 5)"
   ]
  },
  {
   "cell_type": "code",
   "execution_count": 70,
   "metadata": {},
   "outputs": [
    {
     "name": "stdout",
     "output_type": "stream",
     "text": [
      "Total rewards for episode 0 is -0.11499999519437551\n",
      "Total rewards for episode 1 is 0.4550000077113509\n"
     ]
    }
   ],
   "source": [
    "episodes, Rewards=subRoutine()"
   ]
  },
  {
   "cell_type": "code",
   "execution_count": 71,
   "metadata": {},
   "outputs": [
    {
     "data": {
      "text/plain": [
       "[<matplotlib.lines.Line2D at 0x7f9f20c75850>]"
      ]
     },
     "execution_count": 71,
     "metadata": {},
     "output_type": "execute_result"
    },
    {
     "data": {
      "image/png": "[encoded data removed]",
      "text/plain": [
       "<Figure size 432x288 with 1 Axes>"
      ]
     },
     "metadata": {
      "needs_background": "light"
     },
     "output_type": "display_data"
    }
   ],
   "source": [
    "plt.plot(episodes, Rewards)"
   ]
  },
  {
   "cell_type": "markdown",
   "metadata": {},
   "source": [
    "## (after using trained model)\n",
    "## Load model"
   ]
  },
  {
   "cell_type": "code",
   "execution_count": 72,
   "metadata": {},
   "outputs": [
    {
     "data": {
      "text/plain": [
       "VisualQNetwork(\n",
       "  (conv1): Conv2d(3, 16, kernel_size=[8, 8], stride=[4, 4])\n",
       "  (conv2): Conv2d(16, 32, kernel_size=[4, 4], stride=[2, 2])\n",
       "  (dense1): Linear(in_features=1728, out_features=126, bias=True)\n",
       "  (dense2): Linear(in_features=126, out_features=5, bias=True)\n",
       ")"
      ]
     },
     "execution_count": 72,
     "metadata": {},
     "output_type": "execute_result"
    }
   ],
   "source": [
    "# Specify a path\n",
    "PATH = \"soccerWorld.pt\"\n",
    "\n",
    "# Load\n",
    "qnet = torch.load(PATH)\n",
    "qnet.eval()"
   ]
  },
  {
   "cell_type": "code",
   "execution_count": 73,
   "metadata": {},
   "outputs": [
    {
     "name": "stdout",
     "output_type": "stream",
     "text": [
      "Total rewards for episode 0 is 0.9220000017434359\n",
      "Total rewards for episode 1 is 0.8220000039786101\n"
     ]
    }
   ],
   "source": [
    "episodes, Rewards=subRoutine()"
   ]
  },
  {
   "cell_type": "code",
   "execution_count": 74,
   "metadata": {},
   "outputs": [
    {
     "data": {
      "text/plain": [
       "[<matplotlib.lines.Line2D at 0x7f9f20973e10>]"
      ]
     },
     "execution_count": 74,
     "metadata": {},
     "output_type": "execute_result"
    },
    {
     "data": {
      "image/png": "[encoded data removed]",
      "text/plain": [
       "<Figure size 432x288 with 1 Axes>"
      ]
     },
     "metadata": {
      "needs_background": "light"
     },
     "output_type": "display_data"
    }
   ],
   "source": [
    "plt.plot(episodes, Rewards)"
   ]
  },
  {
   "cell_type": "markdown",
   "metadata": {},
   "source": [
    "## Writing a sub routine for unity movement - for continous env"
   ]
  },
  {
   "cell_type": "code",
   "execution_count": 4,
   "metadata": {},
   "outputs": [],
   "source": [
    "def subRoutineSoccer():\n",
    "    episodes=list(range(20))\n",
    "    Rewards=[]\n",
    "    for episode in episodes:\n",
    "        env.reset()\n",
    "        decision_steps, terminal_steps = env.get_steps(behavior_name)\n",
    "        tracked_agent = -1 # -1 indicates not yet tracking\n",
    "        done = False # For the tracked_agent\n",
    "        episode_rewards = 0 # For the tracked_agent\n",
    "        while not done:\n",
    "        # Track the first agent we see if not tracking \n",
    "        # Note : len(decision_steps) = [number of agents that requested a decision]\n",
    "            if tracked_agent == -1 and len(decision_steps) >= 1:\n",
    "                  tracked_agent = decision_steps.agent_id[0] \n",
    "\n",
    "            # Generate an action for all agents\n",
    "            actions_values = (\n",
    "            qnet(torch.from_numpy(decision_steps.obs[0])).detach().numpy()\n",
    "              )\n",
    "            actions_values += 0.1 * (\n",
    "            np.random.randn(actions_values.shape[0], actions_values.shape[1])\n",
    "            ).astype(np.float32)\n",
    " \n",
    "            actions_values.resize((len(decision_steps), 2))\n",
    "# Store the action that was picked, it will be put in the trajectory later\n",
    "\n",
    "# Set the actions in the environment\n",
    "            env.set_actions(behavior_name, actions_values)\n",
    "\n",
    "# Move the simulation forward\n",
    "            env.step()\n",
    "            # Get the new simulation results\n",
    "            decision_steps, terminal_steps = env.get_steps(behavior_name)\n",
    "            if tracked_agent in decision_steps: # The agent requested a decision\n",
    "                  episode_rewards += decision_steps[tracked_agent].reward\n",
    "            if tracked_agent in terminal_steps: # The agent terminated its episode\n",
    "                  episode_rewards += terminal_steps[tracked_agent].reward\n",
    "                  done = True\n",
    "        Rewards.append(episode_rewards)\n",
    "    #     Rewards.append((np.sum(iterationRewards))/10)\n",
    "    #     print(iterationRewards)\n",
    "    #     print(sum(iterationRewards))\n",
    "        print(f\"Total rewards for episode {episode} is {Rewards[episode]}\")\n",
    "    return episodes, Rewards"
   ]
  },
  {
   "cell_type": "markdown",
   "metadata": {},
   "source": [
    "## with Trained model"
   ]
  },
  {
   "cell_type": "code",
   "execution_count": 2,
   "metadata": {},
   "outputs": [],
   "source": [
    "import torch"
   ]
  },
  {
   "cell_type": "code",
   "execution_count": 3,
   "metadata": {},
   "outputs": [
    {
     "ename": "AttributeError",
     "evalue": "Can't get attribute 'VisualQNetwork' on <module '__main__'>",
     "output_type": "error",
     "traceback": [
      "\u001b[0;31m---------------------------------------------------------------------------\u001b[0m",
      "\u001b[0;31mAttributeError\u001b[0m                            Traceback (most recent call last)",
      "\u001b[0;32m<ipython-input-3-9f4b0ea897cb>\u001b[0m in \u001b[0;36m<module>\u001b[0;34m\u001b[0m\n\u001b[1;32m      3\u001b[0m \u001b[0;34m\u001b[0m\u001b[0m\n\u001b[1;32m      4\u001b[0m \u001b[0;31m# Load\u001b[0m\u001b[0;34m\u001b[0m\u001b[0;34m\u001b[0m\u001b[0;34m\u001b[0m\u001b[0m\n\u001b[0;32m----> 5\u001b[0;31m \u001b[0mqnet\u001b[0m \u001b[0;34m=\u001b[0m \u001b[0mtorch\u001b[0m\u001b[0;34m.\u001b[0m\u001b[0mload\u001b[0m\u001b[0;34m(\u001b[0m\u001b[0mPATH\u001b[0m\u001b[0;34m)\u001b[0m\u001b[0;34m\u001b[0m\u001b[0;34m\u001b[0m\u001b[0m\n\u001b[0m\u001b[1;32m      6\u001b[0m \u001b[0mqnet\u001b[0m\u001b[0;34m.\u001b[0m\u001b[0meval\u001b[0m\u001b[0;34m(\u001b[0m\u001b[0;34m)\u001b[0m\u001b[0;34m\u001b[0m\u001b[0;34m\u001b[0m\u001b[0m\n",
      "\u001b[0;32m~/opt/miniconda3/envs/mlAgents/lib/python3.7/site-packages/torch/serialization.py\u001b[0m in \u001b[0;36mload\u001b[0;34m(f, map_location, pickle_module, **pickle_load_args)\u001b[0m\n\u001b[1;32m    583\u001b[0m                     \u001b[0;32mreturn\u001b[0m \u001b[0mtorch\u001b[0m\u001b[0;34m.\u001b[0m\u001b[0mjit\u001b[0m\u001b[0;34m.\u001b[0m\u001b[0mload\u001b[0m\u001b[0;34m(\u001b[0m\u001b[0mopened_file\u001b[0m\u001b[0;34m)\u001b[0m\u001b[0;34m\u001b[0m\u001b[0;34m\u001b[0m\u001b[0m\n\u001b[1;32m    584\u001b[0m                 \u001b[0;32mreturn\u001b[0m \u001b[0m_load\u001b[0m\u001b[0;34m(\u001b[0m\u001b[0mopened_zipfile\u001b[0m\u001b[0;34m,\u001b[0m \u001b[0mmap_location\u001b[0m\u001b[0;34m,\u001b[0m \u001b[0mpickle_module\u001b[0m\u001b[0;34m,\u001b[0m \u001b[0;34m**\u001b[0m\u001b[0mpickle_load_args\u001b[0m\u001b[0;34m)\u001b[0m\u001b[0;34m\u001b[0m\u001b[0;34m\u001b[0m\u001b[0m\n\u001b[0;32m--> 585\u001b[0;31m         \u001b[0;32mreturn\u001b[0m \u001b[0m_legacy_load\u001b[0m\u001b[0;34m(\u001b[0m\u001b[0mopened_file\u001b[0m\u001b[0;34m,\u001b[0m \u001b[0mmap_location\u001b[0m\u001b[0;34m,\u001b[0m \u001b[0mpickle_module\u001b[0m\u001b[0;34m,\u001b[0m \u001b[0;34m**\u001b[0m\u001b[0mpickle_load_args\u001b[0m\u001b[0;34m)\u001b[0m\u001b[0;34m\u001b[0m\u001b[0;34m\u001b[0m\u001b[0m\n\u001b[0m\u001b[1;32m    586\u001b[0m \u001b[0;34m\u001b[0m\u001b[0m\n\u001b[1;32m    587\u001b[0m \u001b[0;34m\u001b[0m\u001b[0m\n",
      "\u001b[0;32m~/opt/miniconda3/envs/mlAgents/lib/python3.7/site-packages/torch/serialization.py\u001b[0m in \u001b[0;36m_legacy_load\u001b[0;34m(f, map_location, pickle_module, **pickle_load_args)\u001b[0m\n\u001b[1;32m    763\u001b[0m     \u001b[0munpickler\u001b[0m \u001b[0;34m=\u001b[0m \u001b[0mpickle_module\u001b[0m\u001b[0;34m.\u001b[0m\u001b[0mUnpickler\u001b[0m\u001b[0;34m(\u001b[0m\u001b[0mf\u001b[0m\u001b[0;34m,\u001b[0m \u001b[0;34m**\u001b[0m\u001b[0mpickle_load_args\u001b[0m\u001b[0;34m)\u001b[0m\u001b[0;34m\u001b[0m\u001b[0;34m\u001b[0m\u001b[0m\n\u001b[1;32m    764\u001b[0m     \u001b[0munpickler\u001b[0m\u001b[0;34m.\u001b[0m\u001b[0mpersistent_load\u001b[0m \u001b[0;34m=\u001b[0m \u001b[0mpersistent_load\u001b[0m\u001b[0;34m\u001b[0m\u001b[0;34m\u001b[0m\u001b[0m\n\u001b[0;32m--> 765\u001b[0;31m     \u001b[0mresult\u001b[0m \u001b[0;34m=\u001b[0m \u001b[0munpickler\u001b[0m\u001b[0;34m.\u001b[0m\u001b[0mload\u001b[0m\u001b[0;34m(\u001b[0m\u001b[0;34m)\u001b[0m\u001b[0;34m\u001b[0m\u001b[0;34m\u001b[0m\u001b[0m\n\u001b[0m\u001b[1;32m    766\u001b[0m \u001b[0;34m\u001b[0m\u001b[0m\n\u001b[1;32m    767\u001b[0m     \u001b[0mdeserialized_storage_keys\u001b[0m \u001b[0;34m=\u001b[0m \u001b[0mpickle_module\u001b[0m\u001b[0;34m.\u001b[0m\u001b[0mload\u001b[0m\u001b[0;34m(\u001b[0m\u001b[0mf\u001b[0m\u001b[0;34m,\u001b[0m \u001b[0;34m**\u001b[0m\u001b[0mpickle_load_args\u001b[0m\u001b[0;34m)\u001b[0m\u001b[0;34m\u001b[0m\u001b[0;34m\u001b[0m\u001b[0m\n",
      "\u001b[0;31mAttributeError\u001b[0m: Can't get attribute 'VisualQNetwork' on <module '__main__'>"
     ]
    }
   ],
   "source": [
    "# Specify a path\n",
    "PATH = \"TrainedOnServer/soccerWorld.pt\"\n",
    "\n",
    "# Load\n",
    "qnet = torch.load(PATH)\n",
    "qnet.eval()"
   ]
  },
  {
   "cell_type": "code",
   "execution_count": 19,
   "metadata": {},
   "outputs": [],
   "source": [
    "import numpy as np"
   ]
  },
  {
   "cell_type": "code",
   "execution_count": 20,
   "metadata": {},
   "outputs": [
    {
     "name": "stdout",
     "output_type": "stream",
     "text": [
      "Total rewards for episode 0 is -1.0\n",
      "Total rewards for episode 1 is -0.5\n",
      "Total rewards for episode 2 is -1.0\n",
      "Total rewards for episode 3 is 3.0\n",
      "Total rewards for episode 4 is 0.0\n",
      "Total rewards for episode 5 is -1.0\n",
      "Total rewards for episode 6 is 2.5\n",
      "Total rewards for episode 7 is -1.0\n",
      "Total rewards for episode 8 is -1.0\n",
      "Total rewards for episode 9 is 3.0\n",
      "Total rewards for episode 10 is 0.0\n",
      "Total rewards for episode 11 is 3.0\n",
      "Total rewards for episode 12 is 0.0\n",
      "Total rewards for episode 13 is -1.0\n",
      "Total rewards for episode 14 is -1.0\n",
      "Total rewards for episode 15 is 0.0\n",
      "Total rewards for episode 16 is 3.0\n",
      "Total rewards for episode 17 is -1.0\n",
      "Total rewards for episode 18 is 0.0\n",
      "Total rewards for episode 19 is 3.0\n"
     ]
    },
    {
     "data": {
      "text/plain": [
       "[<matplotlib.lines.Line2D at 0x7f87450aea90>]"
      ]
     },
     "execution_count": 20,
     "metadata": {},
     "output_type": "execute_result"
    },
    {
     "data": {
      "image/png": "[encoded data removed]",
      "text/plain": [
       "<Figure size 432x288 with 1 Axes>"
      ]
     },
     "metadata": {
      "needs_background": "light"
     },
     "output_type": "display_data"
    }
   ],
   "source": [
    "episodes, Rewards=subRoutineSoccer()\n",
    "plt.plot(episodes, Rewards)"
   ]
  },
  {
   "cell_type": "code",
   "execution_count": 16,
   "metadata": {},
   "outputs": [
    {
     "data": {
      "text/plain": [
       "1.175"
      ]
     },
     "execution_count": 16,
     "metadata": {},
     "output_type": "execute_result"
    }
   ],
   "source": [
    "np.mean(Rewards)"
   ]
  },
  {
   "cell_type": "code",
   "execution_count": 24,
   "metadata": {},
   "outputs": [],
   "source": [
    "env.close()"
   ]
  },
  {
   "cell_type": "markdown",
   "metadata": {},
   "source": [
    "## without Trained model"
   ]
  },
  {
   "cell_type": "code",
   "execution_count": 21,
   "metadata": {},
   "outputs": [],
   "source": [
    "qnet = VisualQNetwork((100, 100, 3), 126, 2)"
   ]
  },
  {
   "cell_type": "code",
   "execution_count": 22,
   "metadata": {},
   "outputs": [
    {
     "name": "stdout",
     "output_type": "stream",
     "text": [
      "Total rewards for episode 0 is 0.0\n",
      "Total rewards for episode 1 is -1.0\n",
      "Total rewards for episode 2 is 3.0\n",
      "Total rewards for episode 3 is 0.0\n",
      "Total rewards for episode 4 is -0.5\n",
      "Total rewards for episode 5 is 0.0\n",
      "Total rewards for episode 6 is -1.0\n",
      "Total rewards for episode 7 is -0.5\n",
      "Total rewards for episode 8 is 0.0\n",
      "Total rewards for episode 9 is 0.0\n",
      "Total rewards for episode 10 is 0.0\n",
      "Total rewards for episode 11 is 3.0\n",
      "Total rewards for episode 12 is -0.5\n",
      "Total rewards for episode 13 is 0.0\n",
      "Total rewards for episode 14 is -0.5\n",
      "Total rewards for episode 15 is 0.0\n",
      "Total rewards for episode 16 is 3.0\n",
      "Total rewards for episode 17 is -1.0\n",
      "Total rewards for episode 18 is 3.0\n",
      "Total rewards for episode 19 is -1.0\n"
     ]
    },
    {
     "data": {
      "text/plain": [
       "[<matplotlib.lines.Line2D at 0x7f874519be10>]"
      ]
     },
     "execution_count": 22,
     "metadata": {},
     "output_type": "execute_result"
    },
    {
     "data": {
      "image/png": "[encoded data removed]",
      "text/plain": [
       "<Figure size 432x288 with 1 Axes>"
      ]
     },
     "metadata": {
      "needs_background": "light"
     },
     "output_type": "display_data"
    }
   ],
   "source": [
    "episodes, Rewards=subRoutineSoccer()\n",
    "plt.plot(episodes, Rewards)"
   ]
  },
  {
   "cell_type": "code",
   "execution_count": 24,
   "metadata": {},
   "outputs": [
    {
     "data": {
      "text/plain": [
       "-0.075"
      ]
     },
     "execution_count": 24,
     "metadata": {},
     "output_type": "execute_result"
    }
   ],
   "source": [
    "np.mean(Rewards)"
   ]
  },
  {
   "cell_type": "markdown",
   "metadata": {},
   "source": [
    "## Below are examples of decision steps and terminal steps"
   ]
  },
  {
   "cell_type": "code",
   "execution_count": 58,
   "metadata": {},
   "outputs": [
    {
     "data": {
      "text/plain": [
       "[array([[[[0.5372549 , 0.54901963, 0.56078434],\n",
       "          [0.5372549 , 0.54901963, 0.56078434],\n",
       "          [0.5372549 , 0.54901963, 0.56078434],\n",
       "          ...,\n",
       "          [0.5372549 , 0.54509807, 0.56078434],\n",
       "          [0.5372549 , 0.54509807, 0.56078434],\n",
       "          [0.5372549 , 0.54509807, 0.56078434]],\n",
       " \n",
       "         [[0.5372549 , 0.54901963, 0.56078434],\n",
       "          [0.5372549 , 0.54901963, 0.56078434],\n",
       "          [0.5372549 , 0.54901963, 0.56078434],\n",
       "          ...,\n",
       "          [0.5372549 , 0.54509807, 0.56078434],\n",
       "          [0.5372549 , 0.54509807, 0.56078434],\n",
       "          [0.5372549 , 0.54509807, 0.56078434]],\n",
       " \n",
       "         [[0.5372549 , 0.54901963, 0.56078434],\n",
       "          [0.5372549 , 0.54901963, 0.56078434],\n",
       "          [0.5372549 , 0.54901963, 0.56078434],\n",
       "          ...,\n",
       "          [0.5372549 , 0.54509807, 0.56078434],\n",
       "          [0.5372549 , 0.54509807, 0.56078434],\n",
       "          [0.5372549 , 0.54509807, 0.56078434]],\n",
       " \n",
       "         ...,\n",
       " \n",
       "         [[0.5372549 , 0.54509807, 0.56078434],\n",
       "          [0.5372549 , 0.54509807, 0.56078434],\n",
       "          [0.5372549 , 0.54509807, 0.56078434],\n",
       "          ...,\n",
       "          [0.5372549 , 0.54509807, 0.56078434],\n",
       "          [0.5372549 , 0.54509807, 0.56078434],\n",
       "          [0.5372549 , 0.54509807, 0.56078434]],\n",
       " \n",
       "         [[0.5372549 , 0.54509807, 0.56078434],\n",
       "          [0.5372549 , 0.54509807, 0.56078434],\n",
       "          [0.5372549 , 0.54509807, 0.56078434],\n",
       "          ...,\n",
       "          [0.5372549 , 0.54509807, 0.56078434],\n",
       "          [0.5372549 , 0.54509807, 0.56078434],\n",
       "          [0.5372549 , 0.54509807, 0.56078434]],\n",
       " \n",
       "         [[0.5372549 , 0.54509807, 0.56078434],\n",
       "          [0.5372549 , 0.54509807, 0.56078434],\n",
       "          [0.5372549 , 0.54509807, 0.56078434],\n",
       "          ...,\n",
       "          [0.5372549 , 0.54509807, 0.56078434],\n",
       "          [0.5372549 , 0.54509807, 0.56078434],\n",
       "          [0.5372549 , 0.54509807, 0.56078434]]]], dtype=float32)]"
      ]
     },
     "execution_count": 58,
     "metadata": {},
     "output_type": "execute_result"
    }
   ],
   "source": [
    "decision_steps.obs"
   ]
  },
  {
   "cell_type": "code",
   "execution_count": 59,
   "metadata": {},
   "outputs": [
    {
     "data": {
      "text/plain": [
       "array([0.], dtype=float32)"
      ]
     },
     "execution_count": 59,
     "metadata": {},
     "output_type": "execute_result"
    }
   ],
   "source": [
    "decision_steps.reward"
   ]
  },
  {
   "cell_type": "code",
   "execution_count": 60,
   "metadata": {},
   "outputs": [
    {
     "data": {
      "text/plain": [
       "array([0], dtype=int32)"
      ]
     },
     "execution_count": 60,
     "metadata": {},
     "output_type": "execute_result"
    }
   ],
   "source": [
    "decision_steps.agent_id"
   ]
  },
  {
   "cell_type": "code",
   "execution_count": 61,
   "metadata": {},
   "outputs": [
    {
     "data": {
      "text/plain": [
       "[array([[False,  True, False,  True, False]])]"
      ]
     },
     "execution_count": 61,
     "metadata": {},
     "output_type": "execute_result"
    }
   ],
   "source": [
    "decision_steps.action_mask #If there is a wall, then that direction action is a masked one"
   ]
  },
  {
   "cell_type": "code",
   "execution_count": 62,
   "metadata": {},
   "outputs": [
    {
     "data": {
      "text/plain": [
       "1"
      ]
     },
     "execution_count": 62,
     "metadata": {},
     "output_type": "execute_result"
    }
   ],
   "source": [
    "len(decision_steps)"
   ]
  },
  {
   "cell_type": "code",
   "execution_count": 63,
   "metadata": {},
   "outputs": [
    {
     "data": {
      "text/plain": [
       "[array([[[[0.5372549 , 0.54901963, 0.56078434],\n",
       "          [0.5372549 , 0.54901963, 0.56078434],\n",
       "          [0.5372549 , 0.54901963, 0.56078434],\n",
       "          ...,\n",
       "          [0.5372549 , 0.54509807, 0.56078434],\n",
       "          [0.5372549 , 0.54509807, 0.56078434],\n",
       "          [0.5372549 , 0.54509807, 0.56078434]],\n",
       " \n",
       "         [[0.5372549 , 0.54901963, 0.56078434],\n",
       "          [0.5372549 , 0.54901963, 0.56078434],\n",
       "          [0.5372549 , 0.54901963, 0.56078434],\n",
       "          ...,\n",
       "          [0.5372549 , 0.54509807, 0.56078434],\n",
       "          [0.5372549 , 0.54509807, 0.56078434],\n",
       "          [0.5372549 , 0.54509807, 0.56078434]],\n",
       " \n",
       "         [[0.5372549 , 0.54901963, 0.56078434],\n",
       "          [0.5372549 , 0.54901963, 0.56078434],\n",
       "          [0.5372549 , 0.54901963, 0.56078434],\n",
       "          ...,\n",
       "          [0.5372549 , 0.54509807, 0.56078434],\n",
       "          [0.5372549 , 0.54509807, 0.56078434],\n",
       "          [0.5372549 , 0.54509807, 0.56078434]],\n",
       " \n",
       "         ...,\n",
       " \n",
       "         [[0.5372549 , 0.54509807, 0.56078434],\n",
       "          [0.5372549 , 0.54509807, 0.56078434],\n",
       "          [0.5372549 , 0.54509807, 0.56078434],\n",
       "          ...,\n",
       "          [0.5372549 , 0.54509807, 0.56078434],\n",
       "          [0.5372549 , 0.54509807, 0.56078434],\n",
       "          [0.5372549 , 0.54509807, 0.56078434]],\n",
       " \n",
       "         [[0.5372549 , 0.54509807, 0.56078434],\n",
       "          [0.5372549 , 0.54509807, 0.56078434],\n",
       "          [0.5372549 , 0.54509807, 0.56078434],\n",
       "          ...,\n",
       "          [0.5372549 , 0.54509807, 0.56078434],\n",
       "          [0.5372549 , 0.54509807, 0.56078434],\n",
       "          [0.5372549 , 0.54509807, 0.56078434]],\n",
       " \n",
       "         [[0.5372549 , 0.54509807, 0.56078434],\n",
       "          [0.5372549 , 0.54509807, 0.56078434],\n",
       "          [0.5372549 , 0.54509807, 0.56078434],\n",
       "          ...,\n",
       "          [0.5372549 , 0.54509807, 0.56078434],\n",
       "          [0.5372549 , 0.54509807, 0.56078434],\n",
       "          [0.5372549 , 0.54509807, 0.56078434]]]], dtype=float32)]"
      ]
     },
     "execution_count": 63,
     "metadata": {},
     "output_type": "execute_result"
    }
   ],
   "source": [
    "terminal_steps.obs"
   ]
  },
  {
   "cell_type": "code",
   "execution_count": 64,
   "metadata": {},
   "outputs": [
    {
     "data": {
      "text/plain": [
       "array([-1.], dtype=float32)"
      ]
     },
     "execution_count": 64,
     "metadata": {},
     "output_type": "execute_result"
    }
   ],
   "source": [
    "terminal_steps.reward"
   ]
  },
  {
   "cell_type": "code",
   "execution_count": 65,
   "metadata": {},
   "outputs": [
    {
     "data": {
      "text/plain": [
       "array([0], dtype=int32)"
      ]
     },
     "execution_count": 65,
     "metadata": {},
     "output_type": "execute_result"
    }
   ],
   "source": [
    "terminal_steps.agent_id"
   ]
  },
  {
   "cell_type": "code",
   "execution_count": 66,
   "metadata": {},
   "outputs": [
    {
     "data": {
      "text/plain": [
       "array([False])"
      ]
     },
     "execution_count": 66,
     "metadata": {},
     "output_type": "execute_result"
    }
   ],
   "source": [
    "terminal_steps.interrupted"
   ]
  },
  {
   "cell_type": "markdown",
   "metadata": {},
   "source": [
    "## Self check with random actions"
   ]
  },
  {
   "cell_type": "code",
   "execution_count": 27,
   "metadata": {},
   "outputs": [],
   "source": [
    "from mlagents_envs.environment import UnityEnvironment\n",
    "env=UnityEnvironment(file_name=\"UnityBuilds/soccerWorld_Adv\", seed =1, side_channels=[])"
   ]
  },
  {
   "cell_type": "code",
   "execution_count": 28,
   "metadata": {},
   "outputs": [],
   "source": [
    "env.reset()"
   ]
  },
  {
   "cell_type": "code",
   "execution_count": 29,
   "metadata": {},
   "outputs": [],
   "source": [
    "decision_steps, terminal_steps = env.get_steps(behavior_name)"
   ]
  },
  {
   "cell_type": "code",
   "execution_count": 35,
   "metadata": {},
   "outputs": [],
   "source": [
    "for i in \n",
    "actions_values = (\n",
    "    qnet(torch.from_numpy(decision_steps.obs[0])).detach().numpy()\n",
    "  )\n",
    " \n",
    "actions_values.resize((len(decision_steps), 2))\n",
    "# Store the action that was picked, it will be put in the trajectory later\n",
    "\n",
    "# Set the actions in the environment\n",
    "env.set_actions(behavior_name, actions_values)\n",
    "\n",
    "# Move the simulation forward\n",
    "env.step()"
   ]
  },
  {
   "cell_type": "code",
   "execution_count": 36,
   "metadata": {},
   "outputs": [
    {
     "name": "stdout",
     "output_type": "stream",
     "text": [
      "0.0\n"
     ]
    }
   ],
   "source": [
    "\n",
    "reward=0\n",
    "for agent_id_terminated in terminal_steps:\n",
    "    # Create its last experience (is last because the Agent terminated)\n",
    "    reward+=terminal_steps[agent_id_terminated].reward\n",
    "    print(reward)\n",
    "for agent_id_decisions in decision_steps:\n",
    "    # Create its last experience (is last because the Agent terminated)\n",
    "    reward=decision_steps[agent_id_decisions].reward\n",
    "    print(reward)\n",
    "          "
   ]
  },
  {
   "cell_type": "code",
   "execution_count": 39,
   "metadata": {},
   "outputs": [],
   "source": [
    "def subRoutineSoccer():\n",
    "    episodes=list(range(4))\n",
    "    Rewards=[]\n",
    "    for episode in episodes:\n",
    "        env.reset()\n",
    "        decision_steps, terminal_steps = env.get_steps(behavior_name)\n",
    "        tracked_agent = -1 # -1 indicates not yet tracking\n",
    "        done = False # For the tracked_agent\n",
    "        episode_rewards = 0 # For the tracked_agent\n",
    "        while not done:\n",
    "        # Track the first agent we see if not tracking \n",
    "        # Note : len(decision_steps) = [number of agents that requested a decision]\n",
    "            if tracked_agent == -1 and len(decision_steps) >= 1:\n",
    "                  tracked_agent = decision_steps.agent_id[0] \n",
    "\n",
    "            # Generate an action for all agents\n",
    "            actions_values = (\n",
    "            qnet(torch.from_numpy(decision_steps.obs[0])).detach().numpy()\n",
    "              )\n",
    "            actions_values += 0.1 * (\n",
    "            np.random.randn(actions_values.shape[0], actions_values.shape[1])\n",
    "            ).astype(np.float32)\n",
    " \n",
    "            actions_values.resize((len(decision_steps), 2))\n",
    "# Store the action that was picked, it will be put in the trajectory later\n",
    "\n",
    "# Set the actions in the environment\n",
    "            env.set_actions(behavior_name, actions_values)\n",
    "\n",
    "# Move the simulation forward\n",
    "            env.step()\n",
    "            # Get the new simulation results\n",
    "            decision_steps, terminal_steps = env.get_steps(behavior_name)\n",
    "            if tracked_agent in decision_steps: # The agent requested a decision\n",
    "                  episode_rewards += decision_steps[tracked_agent].reward\n",
    "            if tracked_agent in terminal_steps: # The agent terminated its episode\n",
    "                  episode_rewards += terminal_steps[tracked_agent].reward\n",
    "                  done = True\n",
    "            Rewards.append(episode_rewards)\n",
    "    #     Rewards.append((np.sum(iterationRewards))/10)\n",
    "    #     print(iterationRewards)\n",
    "    #     print(sum(iterationRewards))\n",
    "        print(f\"Total rewards for episode {episode} is {Rewards[episode]}\")\n",
    "    return episodes, Rewards"
   ]
  },
  {
   "cell_type": "code",
   "execution_count": 40,
   "metadata": {},
   "outputs": [
    {
     "name": "stdout",
     "output_type": "stream",
     "text": [
      "Total rewards for episode 0 is -0.009999999776482582\n",
      "Total rewards for episode 1 is -0.019999999552965164\n",
      "Total rewards for episode 2 is -0.029999999329447746\n",
      "Total rewards for episode 3 is -0.03999999910593033\n"
     ]
    }
   ],
   "source": [
    "episodes,rewards=subRoutineSoccer()"
   ]
  },
  {
   "cell_type": "code",
   "execution_count": null,
   "metadata": {},
   "outputs": [],
   "source": []
  },
  {
   "cell_type": "code",
   "execution_count": null,
   "metadata": {},
   "outputs": [],
   "source": []
  },
  {
   "cell_type": "markdown",
   "metadata": {},
   "source": [
    "## Once training is done, move the NN to eval mode."
   ]
  },
  {
   "cell_type": "code",
   "execution_count": null,
   "metadata": {},
   "outputs": [],
   "source": [
    "qnet.eval()"
   ]
  },
  {
   "cell_type": "markdown",
   "metadata": {},
   "source": [
    "# To save the file as a ONNX model"
   ]
  },
  {
   "cell_type": "code",
   "execution_count": null,
   "metadata": {},
   "outputs": [],
   "source": [
    "import onnx"
   ]
  },
  {
   "cell_type": "code",
   "execution_count": null,
   "metadata": {},
   "outputs": [],
   "source": [
    "input_names=[\"visual_obs\"]\n",
    "output_names=[\"hidden\"]"
   ]
  },
  {
   "cell_type": "code",
   "execution_count": null,
   "metadata": {},
   "outputs": [],
   "source": [
    "torch.onnx.export(\n",
    "    qnet, dummy_input, \"gridWorld.onnx\", verbose=True, input_names=input_names, output_names=output_names\n",
    "    )"
   ]
  },
  {
   "cell_type": "code",
   "execution_count": null,
   "metadata": {},
   "outputs": [],
   "source": [
    "import onnx\n",
    "\n",
    "# Load the ONNX model\n",
    "model = onnx.load(\"gridWorld.onnx\")\n",
    "\n",
    "# Check that the IR is well formed\n",
    "onnx.checker.check_model(model)\n",
    "\n",
    "# Print a human readable representation of the graph\n",
    "onnx.helper.printable_graph(model.graph)"
   ]
  },
  {
   "cell_type": "markdown",
   "metadata": {},
   "source": [
    "## Save the trained Model\n",
    "### Save the entire model"
   ]
  },
  {
   "cell_type": "code",
   "execution_count": 49,
   "metadata": {},
   "outputs": [
    {
     "data": {
      "text/plain": [
       "VisualQNetwork(\n",
       "  (conv1): Conv2d(3, 16, kernel_size=[8, 8], stride=[4, 4])\n",
       "  (conv2): Conv2d(16, 32, kernel_size=[4, 4], stride=[2, 2])\n",
       "  (dense1): Linear(in_features=3872, out_features=126, bias=True)\n",
       "  (dense2): Linear(in_features=126, out_features=2, bias=True)\n",
       ")"
      ]
     },
     "execution_count": 49,
     "metadata": {},
     "output_type": "execute_result"
    }
   ],
   "source": [
    "# # Specify a path\n",
    "# PATH = \"GridWorld.pt\"\n",
    "\n",
    "# # Save\n",
    "# torch.save(qnet, PATH)\n",
    "\n",
    "# # Load\n",
    "# model = torch.load(PATH)\n",
    "# model.eval()\n",
    "\n",
    "# soccerWorld to Specify a path\n",
    "PATH = \"soccerWorld.pt\"\n",
    "\n",
    "# Save\n",
    "torch.save(qnet, PATH)\n",
    "\n",
    "# Load\n",
    "model = torch.load(PATH)\n",
    "model.eval()\n"
   ]
  },
  {
   "cell_type": "code",
   "execution_count": null,
   "metadata": {},
   "outputs": [],
   "source": [
    "#sample forward prop run!\n",
    "model(torch.from_numpy(decision_steps.obs[0])).detach().numpy()"
   ]
  },
  {
   "cell_type": "markdown",
   "metadata": {},
   "source": [
    "### Save and load the model via state_dict\n",
    "#### Let’s save and load our model using just state_dict"
   ]
  },
  {
   "cell_type": "code",
   "execution_count": null,
   "metadata": {},
   "outputs": [],
   "source": [
    "#Save and load the model via state_dict\n",
    "# Specify a path\n",
    "PATH = \"gridWorldStateDict.pt\"\n",
    "\n",
    "# Save\n",
    "torch.save(qnet.state_dict(), PATH)\n",
    "\n",
    "# Load\n",
    "model = VisualQNetwork((64, 84, 3), 126, 5)\n",
    "model.load_state_dict(torch.load(PATH))\n",
    "model.eval()"
   ]
  },
  {
   "cell_type": "code",
   "execution_count": 25,
   "metadata": {},
   "outputs": [],
   "source": [
    "env.close()"
   ]
  },
  {
   "cell_type": "code",
   "execution_count": null,
   "metadata": {},
   "outputs": [],
   "source": []
  }
 ],
 "metadata": {
  "colab": {
   "collapsed_sections": [],
   "name": "Colab-UnityEnvironment-2-Train.ipynb",
   "private_outputs": true,
   "provenance": [],
   "toc_visible": true
  },
  "kernelspec": {
   "display_name": "Python 3",
   "language": "python",
   "name": "python3"
  },
  "language_info": {
   "codemirror_mode": {
    "name": "ipython",
    "version": 3
   },
   "file_extension": ".py",
   "mimetype": "text/x-python",
   "name": "python",
   "nbconvert_exporter": "python",
   "pygments_lexer": "ipython3",
   "version": "3.7.9"
  }
 },
 "nbformat": 4,
 "nbformat_minor": 1
}
